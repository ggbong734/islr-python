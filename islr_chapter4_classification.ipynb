{
 "cells": [
  {
   "cell_type": "markdown",
   "metadata": {},
   "source": [
    "# ISLR Chapter 4: Classification"
   ]
  },
  {
   "cell_type": "markdown",
   "metadata": {},
   "source": [
    "## Lab exercises"
   ]
  },
  {
   "cell_type": "code",
   "execution_count": 1,
   "metadata": {},
   "outputs": [
    {
     "data": {
      "text/plain": [
       "'\\nreferences:\\nJWarmenhoven: https://github.com/JWarmenhoven/ISLR-python/blob/master/Notebooks/\\ncollinprather: https://github.com/collinprather/ISLR-Python\\nJliu: https://github.com/0liu/ISLR\\n'"
      ]
     },
     "execution_count": 1,
     "metadata": {},
     "output_type": "execute_result"
    }
   ],
   "source": [
    "'''\n",
    "references:\n",
    "JWarmenhoven: https://github.com/JWarmenhoven/ISLR-python/blob/master/Notebooks/\n",
    "collinprather: https://github.com/collinprather/ISLR-Python\n",
    "Jliu: https://github.com/0liu/ISLR\n",
    "http://www.science.smith.edu/~jcrouser/SDS293/labs/lab4-py.html\n",
    "http://www.science.smith.edu/~jcrouser/SDS293/labs/lab3-py.html\n",
    "'''\n",
    "\n",
    "# Standard imports\n",
    "import pandas as pd\n",
    "import numpy as np\n",
    "\n",
    "# StatsModels\n",
    "import statsmodels.api as sm\n",
    "import statsmodels.formula.api as smf\n",
    "\n",
    "# scikit-learn\n",
    "from sklearn.linear_model import LogisticRegression\n",
    "from sklearn.discriminant_analysis import LinearDiscriminantAnalysis\n",
    "from sklearn.discriminant_analysis import QuadraticDiscriminantAnalysis\n",
    "from sklearn.neighbors import KNeighborsClassifier\n",
    "from sklearn.preprocessing import scale\n",
    "from sklearn.metrics import confusion_matrix, classification_report\n",
    "\n",
    "# Visualization\n",
    "from IPython.display import display\n",
    "import statsmodels.graphics.api as smg\n",
    "import matplotlib.pyplot as plt\n",
    "import seaborn as sns\n",
    "%matplotlib inline\n",
    "plt.style.use('seaborn-white')"
   ]
  },
  {
   "cell_type": "markdown",
   "metadata": {},
   "source": [
    "## Lab 4.6.1 Stock Market Data"
   ]
  },
  {
   "cell_type": "code",
   "execution_count": 28,
   "metadata": {},
   "outputs": [
    {
     "data": {
      "text/html": [
       "<div>\n",
       "<style scoped>\n",
       "    .dataframe tbody tr th:only-of-type {\n",
       "        vertical-align: middle;\n",
       "    }\n",
       "\n",
       "    .dataframe tbody tr th {\n",
       "        vertical-align: top;\n",
       "    }\n",
       "\n",
       "    .dataframe thead th {\n",
       "        text-align: right;\n",
       "    }\n",
       "</style>\n",
       "<table border=\"1\" class=\"dataframe\">\n",
       "  <thead>\n",
       "    <tr style=\"text-align: right;\">\n",
       "      <th></th>\n",
       "      <th>Year</th>\n",
       "      <th>Lag1</th>\n",
       "      <th>Lag2</th>\n",
       "      <th>Lag3</th>\n",
       "      <th>Lag4</th>\n",
       "      <th>Lag5</th>\n",
       "      <th>Volume</th>\n",
       "      <th>Today</th>\n",
       "      <th>Direction</th>\n",
       "    </tr>\n",
       "  </thead>\n",
       "  <tbody>\n",
       "    <tr>\n",
       "      <th>1</th>\n",
       "      <td>2001</td>\n",
       "      <td>0.381</td>\n",
       "      <td>-0.192</td>\n",
       "      <td>-2.624</td>\n",
       "      <td>-1.055</td>\n",
       "      <td>5.010</td>\n",
       "      <td>1.1913</td>\n",
       "      <td>0.959</td>\n",
       "      <td>Up</td>\n",
       "    </tr>\n",
       "    <tr>\n",
       "      <th>2</th>\n",
       "      <td>2001</td>\n",
       "      <td>0.959</td>\n",
       "      <td>0.381</td>\n",
       "      <td>-0.192</td>\n",
       "      <td>-2.624</td>\n",
       "      <td>-1.055</td>\n",
       "      <td>1.2965</td>\n",
       "      <td>1.032</td>\n",
       "      <td>Up</td>\n",
       "    </tr>\n",
       "    <tr>\n",
       "      <th>3</th>\n",
       "      <td>2001</td>\n",
       "      <td>1.032</td>\n",
       "      <td>0.959</td>\n",
       "      <td>0.381</td>\n",
       "      <td>-0.192</td>\n",
       "      <td>-2.624</td>\n",
       "      <td>1.4112</td>\n",
       "      <td>-0.623</td>\n",
       "      <td>Down</td>\n",
       "    </tr>\n",
       "    <tr>\n",
       "      <th>4</th>\n",
       "      <td>2001</td>\n",
       "      <td>-0.623</td>\n",
       "      <td>1.032</td>\n",
       "      <td>0.959</td>\n",
       "      <td>0.381</td>\n",
       "      <td>-0.192</td>\n",
       "      <td>1.2760</td>\n",
       "      <td>0.614</td>\n",
       "      <td>Up</td>\n",
       "    </tr>\n",
       "    <tr>\n",
       "      <th>5</th>\n",
       "      <td>2001</td>\n",
       "      <td>0.614</td>\n",
       "      <td>-0.623</td>\n",
       "      <td>1.032</td>\n",
       "      <td>0.959</td>\n",
       "      <td>0.381</td>\n",
       "      <td>1.2057</td>\n",
       "      <td>0.213</td>\n",
       "      <td>Up</td>\n",
       "    </tr>\n",
       "  </tbody>\n",
       "</table>\n",
       "</div>"
      ],
      "text/plain": [
       "   Year   Lag1   Lag2   Lag3   Lag4   Lag5  Volume  Today Direction\n",
       "1  2001  0.381 -0.192 -2.624 -1.055  5.010  1.1913  0.959        Up\n",
       "2  2001  0.959  0.381 -0.192 -2.624 -1.055  1.2965  1.032        Up\n",
       "3  2001  1.032  0.959  0.381 -0.192 -2.624  1.4112 -0.623      Down\n",
       "4  2001 -0.623  1.032  0.959  0.381 -0.192  1.2760  0.614        Up\n",
       "5  2001  0.614 -0.623  1.032  0.959  0.381  1.2057  0.213        Up"
      ]
     },
     "execution_count": 28,
     "metadata": {},
     "output_type": "execute_result"
    }
   ],
   "source": [
    "# Import Smarket dataset from local csv file\n",
    "df_stock = pd.read_csv('data/Smarket.csv', index_col = 0, parse_dates=True)\n",
    "df_stock.head()"
   ]
  },
  {
   "cell_type": "code",
   "execution_count": 29,
   "metadata": {},
   "outputs": [
    {
     "data": {
      "text/html": [
       "<div>\n",
       "<style scoped>\n",
       "    .dataframe tbody tr th:only-of-type {\n",
       "        vertical-align: middle;\n",
       "    }\n",
       "\n",
       "    .dataframe tbody tr th {\n",
       "        vertical-align: top;\n",
       "    }\n",
       "\n",
       "    .dataframe thead th {\n",
       "        text-align: right;\n",
       "    }\n",
       "</style>\n",
       "<table border=\"1\" class=\"dataframe\">\n",
       "  <thead>\n",
       "    <tr style=\"text-align: right;\">\n",
       "      <th></th>\n",
       "      <th>Year</th>\n",
       "      <th>Lag1</th>\n",
       "      <th>Lag2</th>\n",
       "      <th>Lag3</th>\n",
       "      <th>Lag4</th>\n",
       "      <th>Lag5</th>\n",
       "      <th>Volume</th>\n",
       "      <th>Today</th>\n",
       "    </tr>\n",
       "  </thead>\n",
       "  <tbody>\n",
       "    <tr>\n",
       "      <th>count</th>\n",
       "      <td>1250.000000</td>\n",
       "      <td>1250.000000</td>\n",
       "      <td>1250.000000</td>\n",
       "      <td>1250.000000</td>\n",
       "      <td>1250.000000</td>\n",
       "      <td>1250.00000</td>\n",
       "      <td>1250.000000</td>\n",
       "      <td>1250.000000</td>\n",
       "    </tr>\n",
       "    <tr>\n",
       "      <th>mean</th>\n",
       "      <td>2003.016000</td>\n",
       "      <td>0.003834</td>\n",
       "      <td>0.003919</td>\n",
       "      <td>0.001716</td>\n",
       "      <td>0.001636</td>\n",
       "      <td>0.00561</td>\n",
       "      <td>1.478305</td>\n",
       "      <td>0.003138</td>\n",
       "    </tr>\n",
       "    <tr>\n",
       "      <th>std</th>\n",
       "      <td>1.409018</td>\n",
       "      <td>1.136299</td>\n",
       "      <td>1.136280</td>\n",
       "      <td>1.138703</td>\n",
       "      <td>1.138774</td>\n",
       "      <td>1.14755</td>\n",
       "      <td>0.360357</td>\n",
       "      <td>1.136334</td>\n",
       "    </tr>\n",
       "    <tr>\n",
       "      <th>min</th>\n",
       "      <td>2001.000000</td>\n",
       "      <td>-4.922000</td>\n",
       "      <td>-4.922000</td>\n",
       "      <td>-4.922000</td>\n",
       "      <td>-4.922000</td>\n",
       "      <td>-4.92200</td>\n",
       "      <td>0.356070</td>\n",
       "      <td>-4.922000</td>\n",
       "    </tr>\n",
       "    <tr>\n",
       "      <th>25%</th>\n",
       "      <td>2002.000000</td>\n",
       "      <td>-0.639500</td>\n",
       "      <td>-0.639500</td>\n",
       "      <td>-0.640000</td>\n",
       "      <td>-0.640000</td>\n",
       "      <td>-0.64000</td>\n",
       "      <td>1.257400</td>\n",
       "      <td>-0.639500</td>\n",
       "    </tr>\n",
       "    <tr>\n",
       "      <th>50%</th>\n",
       "      <td>2003.000000</td>\n",
       "      <td>0.039000</td>\n",
       "      <td>0.039000</td>\n",
       "      <td>0.038500</td>\n",
       "      <td>0.038500</td>\n",
       "      <td>0.03850</td>\n",
       "      <td>1.422950</td>\n",
       "      <td>0.038500</td>\n",
       "    </tr>\n",
       "    <tr>\n",
       "      <th>75%</th>\n",
       "      <td>2004.000000</td>\n",
       "      <td>0.596750</td>\n",
       "      <td>0.596750</td>\n",
       "      <td>0.596750</td>\n",
       "      <td>0.596750</td>\n",
       "      <td>0.59700</td>\n",
       "      <td>1.641675</td>\n",
       "      <td>0.596750</td>\n",
       "    </tr>\n",
       "    <tr>\n",
       "      <th>max</th>\n",
       "      <td>2005.000000</td>\n",
       "      <td>5.733000</td>\n",
       "      <td>5.733000</td>\n",
       "      <td>5.733000</td>\n",
       "      <td>5.733000</td>\n",
       "      <td>5.73300</td>\n",
       "      <td>3.152470</td>\n",
       "      <td>5.733000</td>\n",
       "    </tr>\n",
       "  </tbody>\n",
       "</table>\n",
       "</div>"
      ],
      "text/plain": [
       "              Year         Lag1         Lag2         Lag3         Lag4  \\\n",
       "count  1250.000000  1250.000000  1250.000000  1250.000000  1250.000000   \n",
       "mean   2003.016000     0.003834     0.003919     0.001716     0.001636   \n",
       "std       1.409018     1.136299     1.136280     1.138703     1.138774   \n",
       "min    2001.000000    -4.922000    -4.922000    -4.922000    -4.922000   \n",
       "25%    2002.000000    -0.639500    -0.639500    -0.640000    -0.640000   \n",
       "50%    2003.000000     0.039000     0.039000     0.038500     0.038500   \n",
       "75%    2004.000000     0.596750     0.596750     0.596750     0.596750   \n",
       "max    2005.000000     5.733000     5.733000     5.733000     5.733000   \n",
       "\n",
       "             Lag5       Volume        Today  \n",
       "count  1250.00000  1250.000000  1250.000000  \n",
       "mean      0.00561     1.478305     0.003138  \n",
       "std       1.14755     0.360357     1.136334  \n",
       "min      -4.92200     0.356070    -4.922000  \n",
       "25%      -0.64000     1.257400    -0.639500  \n",
       "50%       0.03850     1.422950     0.038500  \n",
       "75%       0.59700     1.641675     0.596750  \n",
       "max       5.73300     3.152470     5.733000  "
      ]
     },
     "execution_count": 29,
     "metadata": {},
     "output_type": "execute_result"
    }
   ],
   "source": [
    "df_stock.describe()"
   ]
  },
  {
   "cell_type": "code",
   "execution_count": 30,
   "metadata": {},
   "outputs": [
    {
     "name": "stdout",
     "output_type": "stream",
     "text": [
      "<class 'pandas.core.frame.DataFrame'>\n",
      "Int64Index: 1250 entries, 1 to 1250\n",
      "Data columns (total 9 columns):\n",
      " #   Column     Non-Null Count  Dtype  \n",
      "---  ------     --------------  -----  \n",
      " 0   Year       1250 non-null   int64  \n",
      " 1   Lag1       1250 non-null   float64\n",
      " 2   Lag2       1250 non-null   float64\n",
      " 3   Lag3       1250 non-null   float64\n",
      " 4   Lag4       1250 non-null   float64\n",
      " 5   Lag5       1250 non-null   float64\n",
      " 6   Volume     1250 non-null   float64\n",
      " 7   Today      1250 non-null   float64\n",
      " 8   Direction  1250 non-null   object \n",
      "dtypes: float64(7), int64(1), object(1)\n",
      "memory usage: 97.7+ KB\n"
     ]
    }
   ],
   "source": [
    "df_stock.info()"
   ]
  },
  {
   "cell_type": "code",
   "execution_count": 31,
   "metadata": {},
   "outputs": [
    {
     "data": {
      "text/html": [
       "<div>\n",
       "<style scoped>\n",
       "    .dataframe tbody tr th:only-of-type {\n",
       "        vertical-align: middle;\n",
       "    }\n",
       "\n",
       "    .dataframe tbody tr th {\n",
       "        vertical-align: top;\n",
       "    }\n",
       "\n",
       "    .dataframe thead th {\n",
       "        text-align: right;\n",
       "    }\n",
       "</style>\n",
       "<table border=\"1\" class=\"dataframe\">\n",
       "  <thead>\n",
       "    <tr style=\"text-align: right;\">\n",
       "      <th></th>\n",
       "      <th>Year</th>\n",
       "      <th>Lag1</th>\n",
       "      <th>Lag2</th>\n",
       "      <th>Lag3</th>\n",
       "      <th>Lag4</th>\n",
       "      <th>Lag5</th>\n",
       "      <th>Volume</th>\n",
       "      <th>Today</th>\n",
       "    </tr>\n",
       "  </thead>\n",
       "  <tbody>\n",
       "    <tr>\n",
       "      <th>Year</th>\n",
       "      <td>1.000000</td>\n",
       "      <td>0.029700</td>\n",
       "      <td>0.030596</td>\n",
       "      <td>0.033195</td>\n",
       "      <td>0.035689</td>\n",
       "      <td>0.029788</td>\n",
       "      <td>0.539006</td>\n",
       "      <td>0.030095</td>\n",
       "    </tr>\n",
       "    <tr>\n",
       "      <th>Lag1</th>\n",
       "      <td>0.029700</td>\n",
       "      <td>1.000000</td>\n",
       "      <td>-0.026294</td>\n",
       "      <td>-0.010803</td>\n",
       "      <td>-0.002986</td>\n",
       "      <td>-0.005675</td>\n",
       "      <td>0.040910</td>\n",
       "      <td>-0.026155</td>\n",
       "    </tr>\n",
       "    <tr>\n",
       "      <th>Lag2</th>\n",
       "      <td>0.030596</td>\n",
       "      <td>-0.026294</td>\n",
       "      <td>1.000000</td>\n",
       "      <td>-0.025897</td>\n",
       "      <td>-0.010854</td>\n",
       "      <td>-0.003558</td>\n",
       "      <td>-0.043383</td>\n",
       "      <td>-0.010250</td>\n",
       "    </tr>\n",
       "    <tr>\n",
       "      <th>Lag3</th>\n",
       "      <td>0.033195</td>\n",
       "      <td>-0.010803</td>\n",
       "      <td>-0.025897</td>\n",
       "      <td>1.000000</td>\n",
       "      <td>-0.024051</td>\n",
       "      <td>-0.018808</td>\n",
       "      <td>-0.041824</td>\n",
       "      <td>-0.002448</td>\n",
       "    </tr>\n",
       "    <tr>\n",
       "      <th>Lag4</th>\n",
       "      <td>0.035689</td>\n",
       "      <td>-0.002986</td>\n",
       "      <td>-0.010854</td>\n",
       "      <td>-0.024051</td>\n",
       "      <td>1.000000</td>\n",
       "      <td>-0.027084</td>\n",
       "      <td>-0.048414</td>\n",
       "      <td>-0.006900</td>\n",
       "    </tr>\n",
       "    <tr>\n",
       "      <th>Lag5</th>\n",
       "      <td>0.029788</td>\n",
       "      <td>-0.005675</td>\n",
       "      <td>-0.003558</td>\n",
       "      <td>-0.018808</td>\n",
       "      <td>-0.027084</td>\n",
       "      <td>1.000000</td>\n",
       "      <td>-0.022002</td>\n",
       "      <td>-0.034860</td>\n",
       "    </tr>\n",
       "    <tr>\n",
       "      <th>Volume</th>\n",
       "      <td>0.539006</td>\n",
       "      <td>0.040910</td>\n",
       "      <td>-0.043383</td>\n",
       "      <td>-0.041824</td>\n",
       "      <td>-0.048414</td>\n",
       "      <td>-0.022002</td>\n",
       "      <td>1.000000</td>\n",
       "      <td>0.014592</td>\n",
       "    </tr>\n",
       "    <tr>\n",
       "      <th>Today</th>\n",
       "      <td>0.030095</td>\n",
       "      <td>-0.026155</td>\n",
       "      <td>-0.010250</td>\n",
       "      <td>-0.002448</td>\n",
       "      <td>-0.006900</td>\n",
       "      <td>-0.034860</td>\n",
       "      <td>0.014592</td>\n",
       "      <td>1.000000</td>\n",
       "    </tr>\n",
       "  </tbody>\n",
       "</table>\n",
       "</div>"
      ],
      "text/plain": [
       "            Year      Lag1      Lag2      Lag3      Lag4      Lag5    Volume  \\\n",
       "Year    1.000000  0.029700  0.030596  0.033195  0.035689  0.029788  0.539006   \n",
       "Lag1    0.029700  1.000000 -0.026294 -0.010803 -0.002986 -0.005675  0.040910   \n",
       "Lag2    0.030596 -0.026294  1.000000 -0.025897 -0.010854 -0.003558 -0.043383   \n",
       "Lag3    0.033195 -0.010803 -0.025897  1.000000 -0.024051 -0.018808 -0.041824   \n",
       "Lag4    0.035689 -0.002986 -0.010854 -0.024051  1.000000 -0.027084 -0.048414   \n",
       "Lag5    0.029788 -0.005675 -0.003558 -0.018808 -0.027084  1.000000 -0.022002   \n",
       "Volume  0.539006  0.040910 -0.043383 -0.041824 -0.048414 -0.022002  1.000000   \n",
       "Today   0.030095 -0.026155 -0.010250 -0.002448 -0.006900 -0.034860  0.014592   \n",
       "\n",
       "           Today  \n",
       "Year    0.030095  \n",
       "Lag1   -0.026155  \n",
       "Lag2   -0.010250  \n",
       "Lag3   -0.002448  \n",
       "Lag4   -0.006900  \n",
       "Lag5   -0.034860  \n",
       "Volume  0.014592  \n",
       "Today   1.000000  "
      ]
     },
     "execution_count": 31,
     "metadata": {},
     "output_type": "execute_result"
    }
   ],
   "source": [
    "# to check for multi-collinearity when doing multiple regression\n",
    "df_stock.corr()"
   ]
  },
  {
   "cell_type": "code",
   "execution_count": 32,
   "metadata": {},
   "outputs": [
    {
     "data": {
      "image/png": "[encoded data removed]",
      "text/plain": [
       "<Figure size 1080x432 with 1 Axes>"
      ]
     },
     "metadata": {},
     "output_type": "display_data"
    }
   ],
   "source": [
    "# Plot Smarket volumes\n",
    "ax = df_stock.plot('Year', 'Volume', kind='bar', figsize=(15,6), color='k')\n",
    "\n",
    "# Remove redundant xtick labels\n",
    "xticklabels = ['',] * df_stock.shape[0]\n",
    "xtext, xlocs = np.unique(df_stock.Year, return_index=True)\n",
    "for t, i in zip(xtext, xlocs):\n",
    "    xticklabels[i] = str(int(t))\n",
    "ax.set_xticklabels(xticklabels, rotation=0)\n",
    " \n",
    "ax.set_ylabel('Volume')\n",
    "ax.set_title('S&P 500 volume over 1250 days.')\n",
    "plt.show()"
   ]
  },
  {
   "cell_type": "markdown",
   "metadata": {},
   "source": [
    "## Lab 4.6.2 Logistic Regression"
   ]
  },
  {
   "cell_type": "markdown",
   "metadata": {},
   "source": [
    "### Statsmodels\n",
    "To run a logistic regression we use the generalized linear model and pass the argument $\\color{brown}{family = sm.families.Binomial()}$ to tell the program to run logistic regression rather than some other type of generalized linear model. In GLM, the model will try to maximize the likelihood. Or equivalent to finding parameters that minimize the $\\color{red}{deviance}$. Deviance is a measure of model fit, like residual sum-of-squares (RSS) in linear regression.\n",
    "\n",
    "A large residual deviance suggests a bad fit. Ways to correct this:\n",
    " * include correct predictors\n",
    " * transform predictors appropriately\n",
    " * detect outliers or points with high influence using residual plots\n",
    " * add sample size (if sample for one class, $n_i$, is too small).\n",
    "\n",
    "Reference: http://www.science.smith.edu/~jcrouser/SDS293/labs/2016/lab4/Lab%204%20-%20Logistic%20Regression%20in%20Python.pdf"
   ]
  },
  {
   "cell_type": "code",
   "execution_count": 33,
   "metadata": {},
   "outputs": [
    {
     "name": "stdout",
     "output_type": "stream",
     "text": [
      "Deviance Residuals:\n"
     ]
    },
    {
     "data": {
      "text/plain": [
       "count    1250.000000\n",
       "mean       -0.012030\n",
       "std         1.176023\n",
       "min        -1.325832\n",
       "25%        -1.145081\n",
       "50%        -1.065292\n",
       "75%         1.203130\n",
       "max         1.446343\n",
       "dtype: float64"
      ]
     },
     "metadata": {},
     "output_type": "display_data"
    },
    {
     "name": "stdout",
     "output_type": "stream",
     "text": [
      "                          Generalized Linear Model Regression Results                           \n",
      "================================================================================================\n",
      "Dep. Variable:     ['Direction[Down]', 'Direction[Up]']   No. Observations:                 1250\n",
      "Model:                                              GLM   Df Residuals:                     1243\n",
      "Model Family:                                  Binomial   Df Model:                            6\n",
      "Link Function:                                    logit   Scale:                          1.0000\n",
      "Method:                                            IRLS   Log-Likelihood:                -863.79\n",
      "Date:                                  Sat, 02 May 2020   Deviance:                       1727.6\n",
      "Time:                                          10:55:50   Pearson chi2:                 1.25e+03\n",
      "No. Iterations:                                       4                                         \n",
      "Covariance Type:                              nonrobust                                         \n",
      "==============================================================================\n",
      "                 coef    std err          z      P>|z|      [0.025      0.975]\n",
      "------------------------------------------------------------------------------\n",
      "Intercept      0.1260      0.241      0.523      0.601      -0.346       0.598\n",
      "Lag1           0.0731      0.050      1.457      0.145      -0.025       0.171\n",
      "Lag2           0.0423      0.050      0.845      0.398      -0.056       0.140\n",
      "Lag3          -0.0111      0.050     -0.222      0.824      -0.109       0.087\n",
      "Lag4          -0.0094      0.050     -0.187      0.851      -0.107       0.089\n",
      "Lag5          -0.0103      0.050     -0.208      0.835      -0.107       0.087\n",
      "Volume        -0.1354      0.158     -0.855      0.392      -0.446       0.175\n",
      "==============================================================================\n",
      "\n",
      "    Null deviance: 1731.2 on 1249 degrees of freedom\n",
      "Residual deviance: 1727.6 on 1243 degrees of freedom\n",
      "AIC: 1741.58\n"
     ]
    }
   ],
   "source": [
    "# Logistic regression by GLM\n",
    "formula = 'Direction ~ Lag1 + Lag2 + Lag3 + Lag4 + Lag5 + Volume'\n",
    "smarket_glm = smf.glm(formula, data=df_stock, family=sm.families.Binomial()).fit() \n",
    "\n",
    "print('Deviance Residuals:')\n",
    "display(smarket_glm.resid_deviance.describe())\n",
    "print(smarket_glm.summary())\n",
    "print('\\n    Null deviance: {0:.1f} on {1} degrees of freedom'.format(smarket_glm.null_deviance, smarket_glm.df_model+smarket_glm.df_resid))\n",
    "print('Residual deviance: {0:.1f} on {1} degrees of freedom'.format(smarket_glm.deviance, smarket_glm.df_resid))\n",
    "print('AIC: {0:.2f}'.format(smarket_glm.aic))                "
   ]
  },
  {
   "cell_type": "code",
   "execution_count": 34,
   "metadata": {},
   "outputs": [
    {
     "data": {
      "text/plain": [
       "['Direction[Down]', 'Direction[Up]']"
      ]
     },
     "execution_count": 34,
     "metadata": {},
     "output_type": "execute_result"
    }
   ],
   "source": [
    "smarket_glm.model.endog_names"
   ]
  },
  {
   "cell_type": "markdown",
   "metadata": {},
   "source": [
    "The smallest p-value here is associated with **Lag1**. The negative coefficient for this predictor suggests that if the market had a positive return yesterday, then it is less likely to go up today. However, **at a value of 0.145, the p-value is still relatively large**, and so there is no clear evidence of a real association between Lag1 and Direction.\n",
    "\n",
    "We use the .params attribute in order to access just the coefficients for this fitted model. Similarly, we can use .pvalues to get the p-values for the coefficients, and .model.endog_names to get the endogenous (or dependent) variables. Note that the dependent variable has been converted from nominal into two dummy variables ['Direction[Down]', 'Direction[Up]']"
   ]
  },
  {
   "cell_type": "markdown",
   "metadata": {},
   "source": [
    "The **predict()** function can be used to predict the probability that the market will go down, given values of the predictors. If no data set is supplied to the predict() function, then the probabilities are computed for the training data that was used to fit the logistic regression model."
   ]
  },
  {
   "cell_type": "code",
   "execution_count": 35,
   "metadata": {},
   "outputs": [
    {
     "name": "stdout",
     "output_type": "stream",
     "text": [
      "[0.49291587 0.51853212 0.51886117 0.48477764 0.48921884 0.49304354\n",
      " 0.50734913 0.49077084 0.48238647 0.51116222]\n"
     ]
    }
   ],
   "source": [
    "predictions = smarket_glm.predict()\n",
    "print(predictions[0:10])\n",
    "# values correspond to the probability that the market will go down, rather than up. \n",
    "# as Python created a dummy variable with 1 for Down"
   ]
  },
  {
   "cell_type": "code",
   "execution_count": 41,
   "metadata": {},
   "outputs": [
    {
     "name": "stdout",
     "output_type": "stream",
     "text": [
      "[['Up' 0.0]\n",
      " ['Up' 0.0]\n",
      " ['Down' 1.0]\n",
      " ...\n",
      " ['Up' 0.0]\n",
      " ['Down' 1.0]\n",
      " ['Down' 1.0]]\n"
     ]
    }
   ],
   "source": [
    "print(np.column_stack((df_stock[\"Direction\"], smarket_glm.model.endog))) # check if 0 refers to Up or Down"
   ]
  },
  {
   "cell_type": "markdown",
   "metadata": {},
   "source": [
    "Transforming the all elements which predicted probability exceeds 0.5 to Down, otherwise Up. Confusion matrix can be created using these binary predictions. "
   ]
  },
  {
   "cell_type": "code",
   "execution_count": 43,
   "metadata": {},
   "outputs": [
    {
     "name": "stdout",
     "output_type": "stream",
     "text": [
      "[[145 457]\n",
      " [141 507]]\n"
     ]
    }
   ],
   "source": [
    "predictions_nominal = [\"Up\" if x < 0.5 else \"Down\" for x in predictions]\n",
    "\n",
    "from sklearn.metrics import confusion_matrix, classification_report\n",
    "print(confusion_matrix(df_stock['Direction'], predictions_nominal))"
   ]
  },
  {
   "cell_type": "markdown",
   "metadata": {},
   "source": [
    "The diagonal elements of the confusion matrix indicate correct predictions. Our model correctly predicted the market would go up on 507 days and that it would go down on 145 days for a total of 507 + 145 = 652 correct predictions. "
   ]
  },
  {
   "cell_type": "code",
   "execution_count": 44,
   "metadata": {},
   "outputs": [
    {
     "name": "stdout",
     "output_type": "stream",
     "text": [
      "              precision    recall  f1-score   support\n",
      "\n",
      "        Down      0.507     0.241     0.327       602\n",
      "          Up      0.526     0.782     0.629       648\n",
      "\n",
      "    accuracy                          0.522      1250\n",
      "   macro avg      0.516     0.512     0.478      1250\n",
      "weighted avg      0.517     0.522     0.483      1250\n",
      "\n"
     ]
    }
   ],
   "source": [
    "print(classification_report(df_stock[\"Direction\"], \n",
    "                            predictions_nominal, \n",
    "                            digits = 3))"
   ]
  },
  {
   "cell_type": "markdown",
   "metadata": {},
   "source": [
    "By checking the output of **classification_report()** function, we can check that the accuracy of the model is 0.522. \n",
    "\n",
    "It may appear that the logistic regression model is working slightly better than random guessing. But this is misleading as we tested the model on the training data. So this is the training error rate. We need to use unseen data to check the test error rate which is more representative of model performance. "
   ]
  },
  {
   "cell_type": "code",
   "execution_count": 46,
   "metadata": {},
   "outputs": [],
   "source": [
    "# Split the data by year. Training set is from 2001 to 2004. Test set is 2005.\n",
    "x_train = df_stock.loc[df_stock['Year'] <= 2004, :]\n",
    "y_train = df_stock.loc[df_stock['Year'] <= 2004, 'Direction']\n",
    "\n",
    "x_test = df_stock.loc[df_stock['Year'] >= 2005, :]\n",
    "y_test = df_stock.loc[df_stock['Year'] >= 2005, 'Direction']"
   ]
  },
  {
   "cell_type": "code",
   "execution_count": 47,
   "metadata": {},
   "outputs": [],
   "source": [
    "# Fit a regression model using only the subset of observations prior to 2005\n",
    "model = smf.glm(formula = formula, \n",
    "                data = x_train, \n",
    "                family = sm.families.Binomial())\n",
    "result = model.fit()"
   ]
  },
  {
   "cell_type": "markdown",
   "metadata": {},
   "source": [
    "Computing predictions using predictors in the test set and comparing the output to the actual movements of market, y_test:"
   ]
  },
  {
   "cell_type": "code",
   "execution_count": 48,
   "metadata": {},
   "outputs": [
    {
     "name": "stdout",
     "output_type": "stream",
     "text": [
      "              precision    recall  f1-score   support\n",
      "\n",
      "        Down      0.443     0.694     0.540       111\n",
      "          Up      0.564     0.312     0.402       141\n",
      "\n",
      "    accuracy                          0.480       252\n",
      "   macro avg      0.503     0.503     0.471       252\n",
      "weighted avg      0.511     0.480     0.463       252\n",
      "\n"
     ]
    }
   ],
   "source": [
    "# Compute predictions using x_test, and comparing result to y_test\n",
    "predictions = result.predict(x_test)\n",
    "predictions_nominal = [ \"Up\" if x < 0.5 else \"Down\" for x in predictions]\n",
    "print(classification_report(y_test, \n",
    "                            predictions_nominal, \n",
    "                            digits = 3))"
   ]
  },
  {
   "cell_type": "markdown",
   "metadata": {},
   "source": [
    "Results are rather disappointing as the accuracy is $\\color{red}{48\\%}$ or worse than random guessing. Not surprising as one is not expected to predict future market performance using previous day's returns. We can probably get better results by removing predictors with the smallest p-values. \n",
    "\n",
    "**Using predictors with no relationship with the response tends to cause deterioration in the accuracy** (such predictors increase the variance without a decrease in bias). In this example, we can try to refit the logistic regression using just Lag1 and Lag2, which seems to have the highest predictive power in the original model. "
   ]
  },
  {
   "cell_type": "markdown",
   "metadata": {},
   "source": [
    "If we want to predict the returns associated with **particular values of predictors** (i.e. Lag1 to Lag5, and Volume), we can do this by passing a new data frame containing our test values to the predict() function"
   ]
  },
  {
   "cell_type": "code",
   "execution_count": 49,
   "metadata": {},
   "outputs": [
    {
     "name": "stdout",
     "output_type": "stream",
     "text": [
      "0    0.490797\n",
      "1    0.479696\n",
      "dtype: float64\n"
     ]
    }
   ],
   "source": [
    "print(result.predict(pd.DataFrame([[1.2, 1.1, 1.0, 0.9, 1.3, 0.4], \n",
    "                                   [1.5, -0.8, -0.9, 1.3, -0.6, 0.6]], \n",
    "                                  columns = [\"Lag1\",\"Lag2\", \"Lag3\", \"Lag4\", \"Lag5\", \"Volume\"])))"
   ]
  },
  {
   "cell_type": "markdown",
   "metadata": {},
   "source": [
    "## scikit-learn LogisticRegression\n",
    "\n",
    "The scikit learn package provides a way to generate the confusion matrix and allow us to calculate the score (TP+TN)/total."
   ]
  },
  {
   "cell_type": "code",
   "execution_count": 8,
   "metadata": {},
   "outputs": [
    {
     "data": {
      "text/html": [
       "<div>\n",
       "<style scoped>\n",
       "    .dataframe tbody tr th:only-of-type {\n",
       "        vertical-align: middle;\n",
       "    }\n",
       "\n",
       "    .dataframe tbody tr th {\n",
       "        vertical-align: top;\n",
       "    }\n",
       "\n",
       "    .dataframe thead th {\n",
       "        text-align: right;\n",
       "    }\n",
       "</style>\n",
       "<table border=\"1\" class=\"dataframe\">\n",
       "  <thead>\n",
       "    <tr style=\"text-align: right;\">\n",
       "      <th></th>\n",
       "      <th>(Intercept)</th>\n",
       "      <th>Lag1</th>\n",
       "      <th>Lag2</th>\n",
       "      <th>Lag3</th>\n",
       "      <th>Lag4</th>\n",
       "      <th>Lag5</th>\n",
       "      <th>Volume</th>\n",
       "    </tr>\n",
       "  </thead>\n",
       "  <tbody>\n",
       "    <tr>\n",
       "      <th></th>\n",
       "      <td>-0.126008</td>\n",
       "      <td>-0.073073</td>\n",
       "      <td>-0.042301</td>\n",
       "      <td>0.011086</td>\n",
       "      <td>0.00936</td>\n",
       "      <td>0.010313</td>\n",
       "      <td>0.135446</td>\n",
       "    </tr>\n",
       "  </tbody>\n",
       "</table>\n",
       "</div>"
      ],
      "text/plain": [
       "  (Intercept)      Lag1      Lag2      Lag3     Lag4      Lag5    Volume\n",
       "    -0.126008 -0.073073 -0.042301  0.011086  0.00936  0.010313  0.135446"
      ]
     },
     "metadata": {},
     "output_type": "display_data"
    }
   ],
   "source": [
    "# Specify features and response \n",
    "features = ['Lag1', 'Lag2', 'Lag3', 'Lag4', 'Lag5', 'Volume']\n",
    "response = 'Direction'\n",
    "\n",
    "# Fit on the whole dataset\n",
    "X = df_stock[features]\n",
    "y = df_stock[response]\n",
    "logreg = LogisticRegression(C=1e9)  # Use a large C to disable regularization\n",
    "logreg.fit(X, y)\n",
    "\n",
    "# Extract coefficients from fitting results\n",
    "coef = pd.DataFrame(logreg.coef_, columns=features)\n",
    "coef.insert(loc=0, column='(Intercept)', value=logreg.intercept_)\n",
    "coef.index=['']\n",
    "display(coef)"
   ]
  },
  {
   "cell_type": "code",
   "execution_count": 9,
   "metadata": {},
   "outputs": [
    {
     "name": "stdout",
     "output_type": "stream",
     "text": [
      "First ten in-sample prediction probabilities P(Y=1|X): \n"
     ]
    },
    {
     "data": {
      "text/plain": [
       "array([0.50708369, 0.48146717, 0.48113874, 0.51522232, 0.51078106,\n",
       "       0.50695658, 0.49265099, 0.5092293 , 0.51761327, 0.48883779])"
      ]
     },
     "metadata": {},
     "output_type": "display_data"
    },
    {
     "name": "stdout",
     "output_type": "stream",
     "text": [
      "In-sample prediction decision results: \n"
     ]
    },
    {
     "data": {
      "text/plain": [
       "array(['Up', 'Down', 'Down', 'Up', 'Up', 'Up', 'Down', 'Up', 'Up', 'Down'],\n",
       "      dtype=object)"
      ]
     },
     "metadata": {},
     "output_type": "display_data"
    }
   ],
   "source": [
    "# In-sample prediction with type='response', or P(Y=1|X)\n",
    "print(\"First ten in-sample prediction probabilities P(Y=1|X): \")\n",
    "display(logreg.predict_proba(X)[0:10, 1])\n",
    "\n",
    "# In-sample prediction with decisions\n",
    "y_pred = logreg.predict(X)\n",
    "print(\"In-sample prediction decision results: \")\n",
    "display(y_pred[0:10])"
   ]
  },
  {
   "cell_type": "code",
   "execution_count": 10,
   "metadata": {},
   "outputs": [
    {
     "name": "stdout",
     "output_type": "stream",
     "text": [
      "\n",
      "Confusion Matrix: \n"
     ]
    },
    {
     "data": {
      "text/html": [
       "<div>\n",
       "<style scoped>\n",
       "    .dataframe tbody tr th:only-of-type {\n",
       "        vertical-align: middle;\n",
       "    }\n",
       "\n",
       "    .dataframe tbody tr th {\n",
       "        vertical-align: top;\n",
       "    }\n",
       "\n",
       "    .dataframe thead tr th {\n",
       "        text-align: left;\n",
       "    }\n",
       "</style>\n",
       "<table border=\"1\" class=\"dataframe\">\n",
       "  <thead>\n",
       "    <tr>\n",
       "      <th></th>\n",
       "      <th></th>\n",
       "      <th colspan=\"2\" halign=\"left\">Predict</th>\n",
       "    </tr>\n",
       "    <tr>\n",
       "      <th></th>\n",
       "      <th></th>\n",
       "      <th>Down</th>\n",
       "      <th>Up</th>\n",
       "    </tr>\n",
       "  </thead>\n",
       "  <tbody>\n",
       "    <tr>\n",
       "      <th rowspan=\"2\" valign=\"top\">True</th>\n",
       "      <th>Down</th>\n",
       "      <td>145</td>\n",
       "      <td>457</td>\n",
       "    </tr>\n",
       "    <tr>\n",
       "      <th>Up</th>\n",
       "      <td>141</td>\n",
       "      <td>507</td>\n",
       "    </tr>\n",
       "  </tbody>\n",
       "</table>\n",
       "</div>"
      ],
      "text/plain": [
       "          Predict     \n",
       "             Down   Up\n",
       "True Down     145  457\n",
       "     Up       141  507"
      ]
     },
     "metadata": {},
     "output_type": "display_data"
    },
    {
     "name": "stdout",
     "output_type": "stream",
     "text": [
      "\n",
      "Score (TP+TN/total):  0.5216\n"
     ]
    }
   ],
   "source": [
    "# Evaluate accruacy by confusion matrix and score\n",
    "cfmat_cnames = pd.MultiIndex.from_product([['Predict'], logreg.classes_])\n",
    "cfmat_index = pd.MultiIndex.from_product([['True'], logreg.classes_])\n",
    "\n",
    "cfmat = confusion_matrix(y, y_pred, labels=logreg.classes_)\n",
    "print(\"\\nConfusion Matrix: \")\n",
    "display(pd.DataFrame(cfmat, columns=cfmat_cnames, index=cfmat_index))\n",
    "print('\\nScore (TP+TN/total): ', logreg.score(X, y))"
   ]
  },
  {
   "cell_type": "code",
   "execution_count": 11,
   "metadata": {},
   "outputs": [
    {
     "name": "stdout",
     "output_type": "stream",
     "text": [
      "Training dataset shape:  (998, 10)\n",
      "Test dataset shape:  (252, 10)\n"
     ]
    }
   ],
   "source": [
    "# Manual train-test split\n",
    "smarket_train = df_stock[df_stock.Year!=2005]\n",
    "smarket_test = df_stock[df_stock.Year==2005]\n",
    "print(\"Training dataset shape: \", smarket_train.shape)\n",
    "print(\"Test dataset shape: \", smarket_test.shape)"
   ]
  },
  {
   "cell_type": "code",
   "execution_count": 12,
   "metadata": {},
   "outputs": [
    {
     "name": "stdout",
     "output_type": "stream",
     "text": [
      "\n",
      "Confusion Matrix: \n"
     ]
    },
    {
     "data": {
      "text/html": [
       "<div>\n",
       "<style scoped>\n",
       "    .dataframe tbody tr th:only-of-type {\n",
       "        vertical-align: middle;\n",
       "    }\n",
       "\n",
       "    .dataframe tbody tr th {\n",
       "        vertical-align: top;\n",
       "    }\n",
       "\n",
       "    .dataframe thead tr th {\n",
       "        text-align: left;\n",
       "    }\n",
       "</style>\n",
       "<table border=\"1\" class=\"dataframe\">\n",
       "  <thead>\n",
       "    <tr>\n",
       "      <th></th>\n",
       "      <th></th>\n",
       "      <th colspan=\"2\" halign=\"left\">Predict</th>\n",
       "    </tr>\n",
       "    <tr>\n",
       "      <th></th>\n",
       "      <th></th>\n",
       "      <th>Down</th>\n",
       "      <th>Up</th>\n",
       "    </tr>\n",
       "  </thead>\n",
       "  <tbody>\n",
       "    <tr>\n",
       "      <th rowspan=\"2\" valign=\"top\">True</th>\n",
       "      <th>Down</th>\n",
       "      <td>77</td>\n",
       "      <td>34</td>\n",
       "    </tr>\n",
       "    <tr>\n",
       "      <th>Up</th>\n",
       "      <td>97</td>\n",
       "      <td>44</td>\n",
       "    </tr>\n",
       "  </tbody>\n",
       "</table>\n",
       "</div>"
      ],
      "text/plain": [
       "          Predict    \n",
       "             Down  Up\n",
       "True Down      77  34\n",
       "     Up        97  44"
      ]
     },
     "metadata": {},
     "output_type": "display_data"
    },
    {
     "name": "stdout",
     "output_type": "stream",
     "text": [
      "\n",
      "Score (TP+TN/total):  0.4801587301587302\n"
     ]
    }
   ],
   "source": [
    "# Specify features and response\n",
    "features = ['Lag1', 'Lag2', 'Lag3', 'Lag4', 'Lag5', 'Volume']\n",
    "response = 'Direction'\n",
    "\n",
    "# Fit on training data subset using sklearn\n",
    "X = smarket_train[features]\n",
    "y = smarket_train[response]\n",
    "logreg = LogisticRegression(C=1e9)  # Use a large C to disable regularization\n",
    "logreg.fit(X, y)\n",
    "\n",
    "# Prediction on test data subset using sklearn\n",
    "X = smarket_test[features]\n",
    "y = smarket_test[response]\n",
    "y_pred = logreg.predict(X)\n",
    "\n",
    "# Evaluate accuracy\n",
    "cfmat_cnames = pd.MultiIndex.from_product([['Predict'], logreg.classes_])\n",
    "cfmat_index = pd.MultiIndex.from_product([['True'], logreg.classes_])\n",
    "cfmat = confusion_matrix(y, y_pred, labels=logreg.classes_)\n",
    "print(\"\\nConfusion Matrix: \")\n",
    "display(pd.DataFrame(cfmat, columns=cfmat_cnames, index=cfmat_index))\n",
    "print('\\nScore (TP+TN/total): ', logreg.score(X, y))"
   ]
  },
  {
   "cell_type": "code",
   "execution_count": 13,
   "metadata": {},
   "outputs": [
    {
     "name": "stdout",
     "output_type": "stream",
     "text": [
      "\n",
      "Confusion Matrix: \n"
     ]
    },
    {
     "data": {
      "text/html": [
       "<div>\n",
       "<style scoped>\n",
       "    .dataframe tbody tr th:only-of-type {\n",
       "        vertical-align: middle;\n",
       "    }\n",
       "\n",
       "    .dataframe tbody tr th {\n",
       "        vertical-align: top;\n",
       "    }\n",
       "\n",
       "    .dataframe thead tr th {\n",
       "        text-align: left;\n",
       "    }\n",
       "</style>\n",
       "<table border=\"1\" class=\"dataframe\">\n",
       "  <thead>\n",
       "    <tr>\n",
       "      <th></th>\n",
       "      <th></th>\n",
       "      <th colspan=\"2\" halign=\"left\">Predict</th>\n",
       "    </tr>\n",
       "    <tr>\n",
       "      <th></th>\n",
       "      <th></th>\n",
       "      <th>Down</th>\n",
       "      <th>Up</th>\n",
       "    </tr>\n",
       "  </thead>\n",
       "  <tbody>\n",
       "    <tr>\n",
       "      <th rowspan=\"2\" valign=\"top\">True</th>\n",
       "      <th>Down</th>\n",
       "      <td>35</td>\n",
       "      <td>76</td>\n",
       "    </tr>\n",
       "    <tr>\n",
       "      <th>Up</th>\n",
       "      <td>35</td>\n",
       "      <td>106</td>\n",
       "    </tr>\n",
       "  </tbody>\n",
       "</table>\n",
       "</div>"
      ],
      "text/plain": [
       "          Predict     \n",
       "             Down   Up\n",
       "True Down      35   76\n",
       "     Up        35  106"
      ]
     },
     "metadata": {},
     "output_type": "display_data"
    },
    {
     "name": "stdout",
     "output_type": "stream",
     "text": [
      "\n",
      "Score (TP+TN/total):  0.5595238095238095\n",
      "\n",
      "Precision (TP/(TP+FP)): 0.5824175824175825\n"
     ]
    }
   ],
   "source": [
    "# Specify features and response\n",
    "features = ['Lag1', 'Lag2']\n",
    "response = 'Direction'\n",
    "\n",
    "# Improve prediction by removing features with large p-values\n",
    "X = smarket_train[features]\n",
    "y = smarket_train[response]\n",
    "logreg = LogisticRegression(C=1e9)  # Use a large C to disable regularization\n",
    "logreg.fit(X, y)\n",
    "\n",
    "# Prediction on test data subset\n",
    "X = smarket_test[features]\n",
    "y = smarket_test[response]\n",
    "y_pred = logreg.predict(X)\n",
    "\n",
    "# Evaluate accuracy\n",
    "cfmat_cnames = pd.MultiIndex.from_product([['Predict'], logreg.classes_])\n",
    "cfmat_index = pd.MultiIndex.from_product([['True'], logreg.classes_])\n",
    "cfmat = confusion_matrix(y, y_pred, labels=logreg.classes_)\n",
    "print(\"\\nConfusion Matrix: \")\n",
    "display(pd.DataFrame(cfmat, columns=cfmat_cnames, index=cfmat_index))\n",
    "print('\\nScore (TP+TN/total): ', logreg.score(X, y)) \n",
    "print('\\nPrecision (TP/(TP+FP)):', cfmat[1][1] / (cfmat[1][1] + cfmat[0][1]))"
   ]
  },
  {
   "cell_type": "markdown",
   "metadata": {},
   "source": [
    "## Lab 4.6.3 Linear Discriminant Analysis (LDA)"
   ]
  },
  {
   "cell_type": "markdown",
   "metadata": {},
   "source": [
    "Reference: http://www.science.smith.edu/~jcrouser/SDS293/labs/lab5-py.html"
   ]
  },
  {
   "cell_type": "code",
   "execution_count": 67,
   "metadata": {},
   "outputs": [
    {
     "name": "stdout",
     "output_type": "stream",
     "text": [
      "Prior probabilities of groups:\n"
     ]
    },
    {
     "data": {
      "text/html": [
       "<div>\n",
       "<style scoped>\n",
       "    .dataframe tbody tr th:only-of-type {\n",
       "        vertical-align: middle;\n",
       "    }\n",
       "\n",
       "    .dataframe tbody tr th {\n",
       "        vertical-align: top;\n",
       "    }\n",
       "\n",
       "    .dataframe thead th {\n",
       "        text-align: right;\n",
       "    }\n",
       "</style>\n",
       "<table border=\"1\" class=\"dataframe\">\n",
       "  <thead>\n",
       "    <tr style=\"text-align: right;\">\n",
       "      <th></th>\n",
       "      <th>Down</th>\n",
       "      <th>Up</th>\n",
       "    </tr>\n",
       "  </thead>\n",
       "  <tbody>\n",
       "    <tr>\n",
       "      <th></th>\n",
       "      <td>0.491984</td>\n",
       "      <td>0.508016</td>\n",
       "    </tr>\n",
       "  </tbody>\n",
       "</table>\n",
       "</div>"
      ],
      "text/plain": [
       "      Down        Up\n",
       "  0.491984  0.508016"
      ]
     },
     "metadata": {},
     "output_type": "display_data"
    },
    {
     "name": "stdout",
     "output_type": "stream",
     "text": [
      "\n",
      "Group means:\n"
     ]
    },
    {
     "data": {
      "text/html": [
       "<div>\n",
       "<style scoped>\n",
       "    .dataframe tbody tr th:only-of-type {\n",
       "        vertical-align: middle;\n",
       "    }\n",
       "\n",
       "    .dataframe tbody tr th {\n",
       "        vertical-align: top;\n",
       "    }\n",
       "\n",
       "    .dataframe thead th {\n",
       "        text-align: right;\n",
       "    }\n",
       "</style>\n",
       "<table border=\"1\" class=\"dataframe\">\n",
       "  <thead>\n",
       "    <tr style=\"text-align: right;\">\n",
       "      <th></th>\n",
       "      <th>Lag1</th>\n",
       "      <th>Lag2</th>\n",
       "    </tr>\n",
       "  </thead>\n",
       "  <tbody>\n",
       "    <tr>\n",
       "      <th>Down</th>\n",
       "      <td>0.042790</td>\n",
       "      <td>0.033894</td>\n",
       "    </tr>\n",
       "    <tr>\n",
       "      <th>Up</th>\n",
       "      <td>-0.039546</td>\n",
       "      <td>-0.031325</td>\n",
       "    </tr>\n",
       "  </tbody>\n",
       "</table>\n",
       "</div>"
      ],
      "text/plain": [
       "          Lag1      Lag2\n",
       "Down  0.042790  0.033894\n",
       "Up   -0.039546 -0.031325"
      ]
     },
     "metadata": {},
     "output_type": "display_data"
    },
    {
     "name": "stdout",
     "output_type": "stream",
     "text": [
      "\n",
      "Coefficients of linear discriminants:\n"
     ]
    },
    {
     "data": {
      "text/html": [
       "<div>\n",
       "<style scoped>\n",
       "    .dataframe tbody tr th:only-of-type {\n",
       "        vertical-align: middle;\n",
       "    }\n",
       "\n",
       "    .dataframe tbody tr th {\n",
       "        vertical-align: top;\n",
       "    }\n",
       "\n",
       "    .dataframe thead th {\n",
       "        text-align: right;\n",
       "    }\n",
       "</style>\n",
       "<table border=\"1\" class=\"dataframe\">\n",
       "  <thead>\n",
       "    <tr style=\"text-align: right;\">\n",
       "      <th></th>\n",
       "      <th>LD1</th>\n",
       "    </tr>\n",
       "  </thead>\n",
       "  <tbody>\n",
       "    <tr>\n",
       "      <th>Lag1</th>\n",
       "      <td>-0.642019</td>\n",
       "    </tr>\n",
       "    <tr>\n",
       "      <th>Lag2</th>\n",
       "      <td>-0.513529</td>\n",
       "    </tr>\n",
       "  </tbody>\n",
       "</table>\n",
       "</div>"
      ],
      "text/plain": [
       "           LD1\n",
       "Lag1 -0.642019\n",
       "Lag2 -0.513529"
      ]
     },
     "metadata": {},
     "output_type": "display_data"
    }
   ],
   "source": [
    "# Specify features and response\n",
    "features = ['Lag1', 'Lag2']\n",
    "response = 'Direction'\n",
    "\n",
    "# Fit on training subset\n",
    "X = smarket_train[features]\n",
    "y = smarket_train[response]\n",
    "lda = LinearDiscriminantAnalysis()\n",
    "lda.fit(X, y)\n",
    "\n",
    "# Priors, group means, and coefficients of linear discriminants\n",
    "priors = pd.DataFrame(lda.priors_, index=lda.classes_, columns=['']).T\n",
    "print(\"Prior probabilities of groups:\")\n",
    "display(priors)\n",
    "\n",
    "gmeans = pd.DataFrame(lda.means_, index=lda.classes_, columns=features)\n",
    "print(\"\\nGroup means:\")\n",
    "display(gmeans)\n",
    "\n",
    "coef = pd.DataFrame(lda.scalings_, columns=['LD1'], index=features) # Note this is different from model.coef_\n",
    "print(\"\\nCoefficients of linear discriminants:\")\n",
    "display(coef)"
   ]
  },
  {
   "cell_type": "markdown",
   "metadata": {},
   "source": [
    "The LDA output indicates prior probabilities of $\\hat{\\pi}_1 = 0.492$ and $\\hat{\\pi}_2 = 0.508$, in other words, 49.2% of the training observations correspond to days during which the market went down. \n",
    "\n",
    "The group means are the average of each predictor within each class, and are used by LDA as estimates of $\\mu_k$. The values suggest there is a tendency for the previous 2 days' returns to be negative on days market increases, and a tendency of past 2 days' returns to be positive on days the market declines.\n",
    "\n",
    "The coefficients of linear discriminants output provides the linear combination of $Lag1$ and $Lag2$ that are used to form the LDA decision rule. If $-0.642{\\times}Lag1-0.514{\\times}Lag2$ is large, then the LDA classifier will predict a market increase. If it is small then it will predict a response of 1 or a market decline."
   ]
  },
  {
   "cell_type": "code",
   "execution_count": 74,
   "metadata": {},
   "outputs": [
    {
     "data": {
      "text/plain": [
       "(array(['Down', 'Up'], dtype='<U4'), array([ 70, 182]))"
      ]
     },
     "execution_count": 74,
     "metadata": {},
     "output_type": "execute_result"
    }
   ],
   "source": [
    "pred = lda.predict(smarket_test[features])\n",
    "print(np.unique(pred, return_counts=True))"
   ]
  },
  {
   "cell_type": "code",
   "execution_count": 75,
   "metadata": {},
   "outputs": [
    {
     "data": {
      "text/plain": [
       "array([[ 35,  35],\n",
       "       [ 76, 106]])"
      ]
     },
     "execution_count": 75,
     "metadata": {},
     "output_type": "execute_result"
    }
   ],
   "source": [
    "confusion_matrix(pred, smarket_test[response])"
   ]
  },
  {
   "cell_type": "code",
   "execution_count": 76,
   "metadata": {},
   "outputs": [
    {
     "name": "stdout",
     "output_type": "stream",
     "text": [
      "              precision    recall  f1-score   support\n",
      "\n",
      "        Down      0.500     0.315     0.387       111\n",
      "          Up      0.582     0.752     0.656       141\n",
      "\n",
      "    accuracy                          0.560       252\n",
      "   macro avg      0.541     0.534     0.522       252\n",
      "weighted avg      0.546     0.560     0.538       252\n",
      "\n"
     ]
    }
   ],
   "source": [
    "print(classification_report(y_test, pred, digits=3))"
   ]
  },
  {
   "cell_type": "code",
   "execution_count": 70,
   "metadata": {},
   "outputs": [
    {
     "data": {
      "image/png": "[encoded data removed]",
      "text/plain": [
       "<Figure size 864x432 with 2 Axes>"
      ]
     },
     "metadata": {},
     "output_type": "display_data"
    }
   ],
   "source": [
    "# Plot linear discriminants of the LDA training fit\n",
    "smarket_grouped = smarket_train.groupby('Direction')\n",
    "smarket_down = smarket_grouped.get_group('Down')\n",
    "smarket_up = smarket_grouped.get_group('Up')\n",
    "discrim_down = lda.transform(smarket_down[['Lag1', 'Lag2']])\n",
    "discrim_up = lda.transform(smarket_up[['Lag1', 'Lag2']])\n",
    "plt.figure(figsize=(12,6))\n",
    "plt.subplot(2, 1, 1)\n",
    "plt.hist(discrim_down, 16, density=True, color='royalblue')\n",
    "plt.title('group Down')\n",
    "plt.xlim(-5, 5)\n",
    "plt.subplot(2, 1, 2)\n",
    "plt.hist(discrim_up, 16, density=True, color='royalblue')\n",
    "plt.title('group Up')\n",
    "plt.xlim(-5, 5)\n",
    "plt.show()"
   ]
  },
  {
   "cell_type": "code",
   "execution_count": 78,
   "metadata": {},
   "outputs": [
    {
     "name": "stdout",
     "output_type": "stream",
     "text": [
      "\n",
      "Confusion Matrix: \n"
     ]
    },
    {
     "data": {
      "text/html": [
       "<div>\n",
       "<style scoped>\n",
       "    .dataframe tbody tr th:only-of-type {\n",
       "        vertical-align: middle;\n",
       "    }\n",
       "\n",
       "    .dataframe tbody tr th {\n",
       "        vertical-align: top;\n",
       "    }\n",
       "\n",
       "    .dataframe thead tr th {\n",
       "        text-align: left;\n",
       "    }\n",
       "</style>\n",
       "<table border=\"1\" class=\"dataframe\">\n",
       "  <thead>\n",
       "    <tr>\n",
       "      <th></th>\n",
       "      <th></th>\n",
       "      <th colspan=\"2\" halign=\"left\">Predict</th>\n",
       "    </tr>\n",
       "    <tr>\n",
       "      <th></th>\n",
       "      <th></th>\n",
       "      <th>Down</th>\n",
       "      <th>Up</th>\n",
       "    </tr>\n",
       "  </thead>\n",
       "  <tbody>\n",
       "    <tr>\n",
       "      <th rowspan=\"2\" valign=\"top\">True</th>\n",
       "      <th>Down</th>\n",
       "      <td>35</td>\n",
       "      <td>76</td>\n",
       "    </tr>\n",
       "    <tr>\n",
       "      <th>Up</th>\n",
       "      <td>35</td>\n",
       "      <td>106</td>\n",
       "    </tr>\n",
       "  </tbody>\n",
       "</table>\n",
       "</div>"
      ],
      "text/plain": [
       "          Predict     \n",
       "             Down   Up\n",
       "True Down      35   76\n",
       "     Up        35  106"
      ]
     },
     "metadata": {},
     "output_type": "display_data"
    },
    {
     "name": "stdout",
     "output_type": "stream",
     "text": [
      "\n",
      "Score:  0.5595238095238095\n"
     ]
    }
   ],
   "source": [
    "# Prediction on test subset\n",
    "X = smarket_test[['Lag1', 'Lag2']]\n",
    "y = smarket_test['Direction']\n",
    "y_pred = lda.predict(X)\n",
    "\n",
    "# Generate posterior probability matrix\n",
    "posterior = pd.DataFrame(lda.predict_proba(X), columns=lda.classes_)\n",
    "\n",
    "# Generate linear discriminants on the test subset\n",
    "discrim_test = lda.transform(X)\n",
    "\n",
    "cfmat_cnames = pd.MultiIndex.from_product([['Predict'], lda.classes_])\n",
    "cfmat_index = pd.MultiIndex.from_product([['True'], lda.classes_])\n",
    "cfmat = confusion_matrix(y, y_pred, labels=lda.classes_)\n",
    "print(\"\\nConfusion Matrix: \")\n",
    "display(pd.DataFrame(cfmat, columns=cfmat_cnames, index=cfmat_index))\n",
    "print('\\nScore: ', lda.score(X, y))"
   ]
  },
  {
   "cell_type": "code",
   "execution_count": 79,
   "metadata": {},
   "outputs": [
    {
     "name": "stdout",
     "output_type": "stream",
     "text": [
      "Posterior probabilities:\n",
      "        Down        Up\n",
      "0   0.490179  0.509821\n",
      "1   0.479218  0.520782\n",
      "2   0.466818  0.533182\n",
      "3   0.474001  0.525999\n",
      "4   0.492788  0.507212\n",
      "5   0.493856  0.506144\n",
      "6   0.495102  0.504898\n",
      "7   0.487286  0.512714\n",
      "8   0.490701  0.509299\n",
      "9   0.484403  0.515597\n",
      "10  0.490696  0.509304\n",
      "11  0.511999  0.488001\n",
      "12  0.489515  0.510485\n",
      "13  0.470676  0.529324\n",
      "14  0.474459  0.525541\n",
      "15  0.479958  0.520042\n",
      "16  0.493578  0.506422\n",
      "17  0.503089  0.496911\n",
      "18  0.497881  0.502119\n",
      "19  0.488633  0.511367\n",
      "\n",
      "First 20 prediction results: \n",
      " ['Up' 'Up' 'Up' 'Up' 'Up' 'Up' 'Up' 'Up' 'Up' 'Up' 'Up' 'Down' 'Up' 'Up'\n",
      " 'Up' 'Up' 'Up' 'Down' 'Up' 'Up']\n",
      "\n",
      "Number of Down class with threshold = 0.9:  0\n"
     ]
    }
   ],
   "source": [
    "# First 20 posterior probabilities\n",
    "print('Posterior probabilities:')\n",
    "print(posterior.iloc[:20])\n",
    "\n",
    "# First 20 prediction results\n",
    "print('\\nFirst 20 prediction results: \\n', y_pred[:20])\n",
    "\n",
    "# Number of Down class with threshold changed to 0.9\n",
    "print('\\nNumber of Down class with threshold = 0.9: ', sum(posterior['Down'] > 0.9))"
   ]
  },
  {
   "cell_type": "markdown",
   "metadata": {},
   "source": [
    "## Lab 4.6.4 Quadratic Discriminant Analysis"
   ]
  },
  {
   "cell_type": "markdown",
   "metadata": {},
   "source": [
    "We will now fit a QDA model to the Smarket data. QDA is implemented in sklearn using the QuadraticDiscriminantAnalysis() function, which is again part of the discriminant_analysis module. The syntax is identical to that of LinearDiscriminantAnalysis()."
   ]
  },
  {
   "cell_type": "code",
   "execution_count": 80,
   "metadata": {},
   "outputs": [
    {
     "name": "stdout",
     "output_type": "stream",
     "text": [
      "Prior probabilities of groups:\n"
     ]
    },
    {
     "data": {
      "text/html": [
       "<div>\n",
       "<style scoped>\n",
       "    .dataframe tbody tr th:only-of-type {\n",
       "        vertical-align: middle;\n",
       "    }\n",
       "\n",
       "    .dataframe tbody tr th {\n",
       "        vertical-align: top;\n",
       "    }\n",
       "\n",
       "    .dataframe thead th {\n",
       "        text-align: right;\n",
       "    }\n",
       "</style>\n",
       "<table border=\"1\" class=\"dataframe\">\n",
       "  <thead>\n",
       "    <tr style=\"text-align: right;\">\n",
       "      <th></th>\n",
       "      <th>Down</th>\n",
       "      <th>Up</th>\n",
       "    </tr>\n",
       "  </thead>\n",
       "  <tbody>\n",
       "    <tr>\n",
       "      <th></th>\n",
       "      <td>0.491984</td>\n",
       "      <td>0.508016</td>\n",
       "    </tr>\n",
       "  </tbody>\n",
       "</table>\n",
       "</div>"
      ],
      "text/plain": [
       "      Down        Up\n",
       "  0.491984  0.508016"
      ]
     },
     "metadata": {},
     "output_type": "display_data"
    },
    {
     "name": "stdout",
     "output_type": "stream",
     "text": [
      "\n",
      "Group means:\n"
     ]
    },
    {
     "data": {
      "text/html": [
       "<div>\n",
       "<style scoped>\n",
       "    .dataframe tbody tr th:only-of-type {\n",
       "        vertical-align: middle;\n",
       "    }\n",
       "\n",
       "    .dataframe tbody tr th {\n",
       "        vertical-align: top;\n",
       "    }\n",
       "\n",
       "    .dataframe thead th {\n",
       "        text-align: right;\n",
       "    }\n",
       "</style>\n",
       "<table border=\"1\" class=\"dataframe\">\n",
       "  <thead>\n",
       "    <tr style=\"text-align: right;\">\n",
       "      <th></th>\n",
       "      <th>Lag1</th>\n",
       "      <th>Lag2</th>\n",
       "    </tr>\n",
       "  </thead>\n",
       "  <tbody>\n",
       "    <tr>\n",
       "      <th>Down</th>\n",
       "      <td>0.042790</td>\n",
       "      <td>0.033894</td>\n",
       "    </tr>\n",
       "    <tr>\n",
       "      <th>Up</th>\n",
       "      <td>-0.039546</td>\n",
       "      <td>-0.031325</td>\n",
       "    </tr>\n",
       "  </tbody>\n",
       "</table>\n",
       "</div>"
      ],
      "text/plain": [
       "          Lag1      Lag2\n",
       "Down  0.042790  0.033894\n",
       "Up   -0.039546 -0.031325"
      ]
     },
     "metadata": {},
     "output_type": "display_data"
    },
    {
     "name": "stdout",
     "output_type": "stream",
     "text": [
      "\n",
      "Coefficients of quadratic discriminants:\n"
     ]
    },
    {
     "data": {
      "text/html": [
       "<div>\n",
       "<style scoped>\n",
       "    .dataframe tbody tr th:only-of-type {\n",
       "        vertical-align: middle;\n",
       "    }\n",
       "\n",
       "    .dataframe tbody tr th {\n",
       "        vertical-align: top;\n",
       "    }\n",
       "\n",
       "    .dataframe thead th {\n",
       "        text-align: right;\n",
       "    }\n",
       "</style>\n",
       "<table border=\"1\" class=\"dataframe\">\n",
       "  <thead>\n",
       "    <tr style=\"text-align: right;\">\n",
       "      <th></th>\n",
       "      <th>QD1</th>\n",
       "      <th>QD2</th>\n",
       "    </tr>\n",
       "  </thead>\n",
       "  <tbody>\n",
       "    <tr>\n",
       "      <th>Lag1</th>\n",
       "      <td>1.562945</td>\n",
       "      <td>1.479273</td>\n",
       "    </tr>\n",
       "    <tr>\n",
       "      <th>Lag2</th>\n",
       "      <td>1.534551</td>\n",
       "      <td>1.472723</td>\n",
       "    </tr>\n",
       "  </tbody>\n",
       "</table>\n",
       "</div>"
      ],
      "text/plain": [
       "           QD1       QD2\n",
       "Lag1  1.562945  1.479273\n",
       "Lag2  1.534551  1.472723"
      ]
     },
     "metadata": {},
     "output_type": "display_data"
    }
   ],
   "source": [
    "features = ['Lag1', 'Lag2']\n",
    "response = 'Direction'\n",
    "\n",
    "# Fit on training subset\n",
    "X = smarket_train[features]\n",
    "y = smarket_train[response]\n",
    "qda = QuadraticDiscriminantAnalysis()\n",
    "qda.fit(X, y)\n",
    "\n",
    "# Priors, group means, and coefficients of linear discriminants\n",
    "priors = pd.DataFrame(qda.priors_, index=qda.classes_, columns=['']).T\n",
    "print(\"Prior probabilities of groups:\")\n",
    "display(priors)\n",
    "gmeans = pd.DataFrame(qda.means_, index=qda.classes_, columns=features)\n",
    "print(\"\\nGroup means:\")\n",
    "display(gmeans)\n",
    "coef = pd.DataFrame(qda.scalings_, columns=['QD1', 'QD2'], index=features)\n",
    "print(\"\\nCoefficients of quadratic discriminants:\")\n",
    "display(coef)"
   ]
  },
  {
   "cell_type": "code",
   "execution_count": 81,
   "metadata": {},
   "outputs": [
    {
     "name": "stdout",
     "output_type": "stream",
     "text": [
      "\n",
      "Confusion Matrix: \n"
     ]
    },
    {
     "data": {
      "text/html": [
       "<div>\n",
       "<style scoped>\n",
       "    .dataframe tbody tr th:only-of-type {\n",
       "        vertical-align: middle;\n",
       "    }\n",
       "\n",
       "    .dataframe tbody tr th {\n",
       "        vertical-align: top;\n",
       "    }\n",
       "\n",
       "    .dataframe thead tr th {\n",
       "        text-align: left;\n",
       "    }\n",
       "</style>\n",
       "<table border=\"1\" class=\"dataframe\">\n",
       "  <thead>\n",
       "    <tr>\n",
       "      <th></th>\n",
       "      <th></th>\n",
       "      <th colspan=\"2\" halign=\"left\">Predict</th>\n",
       "    </tr>\n",
       "    <tr>\n",
       "      <th></th>\n",
       "      <th></th>\n",
       "      <th>Down</th>\n",
       "      <th>Up</th>\n",
       "    </tr>\n",
       "  </thead>\n",
       "  <tbody>\n",
       "    <tr>\n",
       "      <th rowspan=\"2\" valign=\"top\">True</th>\n",
       "      <th>Down</th>\n",
       "      <td>30</td>\n",
       "      <td>81</td>\n",
       "    </tr>\n",
       "    <tr>\n",
       "      <th>Up</th>\n",
       "      <td>20</td>\n",
       "      <td>121</td>\n",
       "    </tr>\n",
       "  </tbody>\n",
       "</table>\n",
       "</div>"
      ],
      "text/plain": [
       "          Predict     \n",
       "             Down   Up\n",
       "True Down      30   81\n",
       "     Up        20  121"
      ]
     },
     "metadata": {},
     "output_type": "display_data"
    },
    {
     "name": "stdout",
     "output_type": "stream",
     "text": [
      "\n",
      "Score:  0.5992063492063492\n"
     ]
    }
   ],
   "source": [
    "# Prediction on test data subset\n",
    "X = smarket_test[features]\n",
    "y = smarket_test[response]\n",
    "y_pred = qda.predict(X)\n",
    "\n",
    "# Evaluate accuracy\n",
    "cfmat_cnames = pd.MultiIndex.from_product([['Predict'], qda.classes_])\n",
    "cfmat_index = pd.MultiIndex.from_product([['True'], qda.classes_])\n",
    "cfmat = confusion_matrix(y, y_pred, labels=qda.classes_)\n",
    "\n",
    "print(\"\\nConfusion Matrix: \")\n",
    "display(pd.DataFrame(cfmat, columns=cfmat_cnames, index=cfmat_index))\n",
    "print('\\nScore: ', qda.score(X, y))"
   ]
  },
  {
   "cell_type": "markdown",
   "metadata": {},
   "source": [
    "Interestingly, the QDA predictions are accurate almost 60% of the time, even though the 2005 data was not used to fit the model. This level of accuracy is quite impressive for stock market data, which is known to be quite hard to model accurately.\n",
    "\n",
    "This suggests that the quadratic form assumed by QDA may capture the true relationship more accurately than the linear forms assumed by LDA and logistic regression. However, we recommend evaluating this method’s performance on a larger test set before betting that this approach will consistently beat the market!"
   ]
  },
  {
   "cell_type": "markdown",
   "metadata": {},
   "source": [
    "## Lab 4.6.5 K-Nearest Neighbors (KNN) "
   ]
  },
  {
   "cell_type": "markdown",
   "metadata": {},
   "source": [
    "We will perform KNN clustering on the Smarket dataset from ISLR. This data set consists of percentage returns for the S&P 500 stock index over 1,250 days, from the beginning of 2001 until the end of 2005.\n"
   ]
  },
  {
   "cell_type": "code",
   "execution_count": 82,
   "metadata": {},
   "outputs": [
    {
     "name": "stdout",
     "output_type": "stream",
     "text": [
      "\n",
      "Confusion Matrix: \n"
     ]
    },
    {
     "data": {
      "text/html": [
       "<div>\n",
       "<style scoped>\n",
       "    .dataframe tbody tr th:only-of-type {\n",
       "        vertical-align: middle;\n",
       "    }\n",
       "\n",
       "    .dataframe tbody tr th {\n",
       "        vertical-align: top;\n",
       "    }\n",
       "\n",
       "    .dataframe thead tr th {\n",
       "        text-align: left;\n",
       "    }\n",
       "</style>\n",
       "<table border=\"1\" class=\"dataframe\">\n",
       "  <thead>\n",
       "    <tr>\n",
       "      <th></th>\n",
       "      <th></th>\n",
       "      <th colspan=\"2\" halign=\"left\">Predict</th>\n",
       "    </tr>\n",
       "    <tr>\n",
       "      <th></th>\n",
       "      <th></th>\n",
       "      <th>Down</th>\n",
       "      <th>Up</th>\n",
       "    </tr>\n",
       "  </thead>\n",
       "  <tbody>\n",
       "    <tr>\n",
       "      <th rowspan=\"2\" valign=\"top\">True</th>\n",
       "      <th>Down</th>\n",
       "      <td>43</td>\n",
       "      <td>68</td>\n",
       "    </tr>\n",
       "    <tr>\n",
       "      <th>Up</th>\n",
       "      <td>58</td>\n",
       "      <td>83</td>\n",
       "    </tr>\n",
       "  </tbody>\n",
       "</table>\n",
       "</div>"
      ],
      "text/plain": [
       "          Predict    \n",
       "             Down  Up\n",
       "True Down      43  68\n",
       "     Up        58  83"
      ]
     },
     "metadata": {},
     "output_type": "display_data"
    },
    {
     "name": "stdout",
     "output_type": "stream",
     "text": [
      "\n",
      "Score:  0.5\n"
     ]
    }
   ],
   "source": [
    "# Fit on training subset with K=1\n",
    "features = ['Lag1', 'Lag2']\n",
    "response = 'Direction'\n",
    "K = 1\n",
    "X = smarket_train[features] # matrix containing predictors associated with training data\n",
    "y = smarket_train[response] # matrix containing response associated with training data\n",
    "knn = KNeighborsClassifier(n_neighbors=K)\n",
    "knn.fit(X, y)\n",
    "\n",
    "# Prediction on test data subset\n",
    "X = smarket_test[features] # matrix containing predictors associated with test data\n",
    "y = smarket_test[response]  \n",
    "y_pred = knn.predict(X)\n",
    "\n",
    "# Evaluate accuracy\n",
    "cfmat_cnames = pd.MultiIndex.from_product([['Predict'], knn.classes_])\n",
    "cfmat_index = pd.MultiIndex.from_product([['True'], knn.classes_])\n",
    "cfmat = confusion_matrix(y, y_pred, labels=knn.classes_)\n",
    "\n",
    "print(\"\\nConfusion Matrix: \")\n",
    "display(pd.DataFrame(cfmat, columns=cfmat_cnames, index=cfmat_index))\n",
    "print('\\nScore: ', knn.score(X, y))"
   ]
  },
  {
   "cell_type": "markdown",
   "metadata": {},
   "source": [
    "Results using K = 1 are not very good, since only 50% of observations are correctly predicted. Of course, it may be that K=1 results in an overly flexible fit to the data. Below we repeat the analysis using K = 3."
   ]
  },
  {
   "cell_type": "code",
   "execution_count": 83,
   "metadata": {},
   "outputs": [
    {
     "name": "stdout",
     "output_type": "stream",
     "text": [
      "\n",
      "Confusion Matrix: \n"
     ]
    },
    {
     "data": {
      "text/html": [
       "<div>\n",
       "<style scoped>\n",
       "    .dataframe tbody tr th:only-of-type {\n",
       "        vertical-align: middle;\n",
       "    }\n",
       "\n",
       "    .dataframe tbody tr th {\n",
       "        vertical-align: top;\n",
       "    }\n",
       "\n",
       "    .dataframe thead tr th {\n",
       "        text-align: left;\n",
       "    }\n",
       "</style>\n",
       "<table border=\"1\" class=\"dataframe\">\n",
       "  <thead>\n",
       "    <tr>\n",
       "      <th></th>\n",
       "      <th></th>\n",
       "      <th colspan=\"2\" halign=\"left\">Predict</th>\n",
       "    </tr>\n",
       "    <tr>\n",
       "      <th></th>\n",
       "      <th></th>\n",
       "      <th>Down</th>\n",
       "      <th>Up</th>\n",
       "    </tr>\n",
       "  </thead>\n",
       "  <tbody>\n",
       "    <tr>\n",
       "      <th rowspan=\"2\" valign=\"top\">True</th>\n",
       "      <th>Down</th>\n",
       "      <td>48</td>\n",
       "      <td>63</td>\n",
       "    </tr>\n",
       "    <tr>\n",
       "      <th>Up</th>\n",
       "      <td>55</td>\n",
       "      <td>86</td>\n",
       "    </tr>\n",
       "  </tbody>\n",
       "</table>\n",
       "</div>"
      ],
      "text/plain": [
       "          Predict    \n",
       "             Down  Up\n",
       "True Down      48  63\n",
       "     Up        55  86"
      ]
     },
     "metadata": {},
     "output_type": "display_data"
    },
    {
     "name": "stdout",
     "output_type": "stream",
     "text": [
      "\n",
      "Score:  0.5317460317460317\n"
     ]
    }
   ],
   "source": [
    "# Fit on training subset with K=3\n",
    "features = ['Lag1', 'Lag2']\n",
    "response = 'Direction'\n",
    "K = 3\n",
    "X = smarket_train[features]\n",
    "y = smarket_train[response]\n",
    "knn = KNeighborsClassifier(n_neighbors=K)\n",
    "knn.fit(X, y)\n",
    "\n",
    "# Prediction on test data subset\n",
    "X = smarket_test[features]\n",
    "y = smarket_test[response]\n",
    "y_pred = knn.predict(X)\n",
    "\n",
    "# Evaluate accuracy\n",
    "cfmat_cnames = pd.MultiIndex.from_product([['Predict'], knn.classes_])\n",
    "cfmat_index = pd.MultiIndex.from_product([['True'], knn.classes_])\n",
    "cfmat = confusion_matrix(y, y_pred, labels=knn.classes_)\n",
    "print(\"\\nConfusion Matrix: \")\n",
    "display(pd.DataFrame(cfmat, columns=cfmat_cnames, index=cfmat_index))\n",
    "print('\\nScore: ', knn.score(X, y))"
   ]
  },
  {
   "cell_type": "markdown",
   "metadata": {},
   "source": [
    "Results have improved slightly. We can try to perform a loop varying K from 1 to 10. It turns out that increasing *K* further provide no further improvements. It appears that the best results of the methods were achieved by QDA. "
   ]
  },
  {
   "cell_type": "markdown",
   "metadata": {},
   "source": [
    "## Lab 4.6.6 Application to Caravan Insurance Data"
   ]
  },
  {
   "cell_type": "markdown",
   "metadata": {},
   "source": [
    "This data set includes 85 predictors that measure demographic characteristics for 5,822 individuals. The response variable is Purchase, which indicates whether or not a given individual purchases a caravan insurance policy. In this data set, only 6% of people purchased caravan insurance."
   ]
  },
  {
   "cell_type": "code",
   "execution_count": 88,
   "metadata": {},
   "outputs": [
    {
     "data": {
      "text/html": [
       "<div>\n",
       "<style scoped>\n",
       "    .dataframe tbody tr th:only-of-type {\n",
       "        vertical-align: middle;\n",
       "    }\n",
       "\n",
       "    .dataframe tbody tr th {\n",
       "        vertical-align: top;\n",
       "    }\n",
       "\n",
       "    .dataframe thead th {\n",
       "        text-align: right;\n",
       "    }\n",
       "</style>\n",
       "<table border=\"1\" class=\"dataframe\">\n",
       "  <thead>\n",
       "    <tr style=\"text-align: right;\">\n",
       "      <th></th>\n",
       "      <th>Unnamed: 0</th>\n",
       "      <th>MOSTYPE</th>\n",
       "      <th>MAANTHUI</th>\n",
       "      <th>MGEMOMV</th>\n",
       "      <th>MGEMLEEF</th>\n",
       "      <th>MOSHOOFD</th>\n",
       "      <th>MGODRK</th>\n",
       "      <th>MGODPR</th>\n",
       "      <th>MGODOV</th>\n",
       "      <th>MGODGE</th>\n",
       "      <th>...</th>\n",
       "      <th>APERSONG</th>\n",
       "      <th>AGEZONG</th>\n",
       "      <th>AWAOREG</th>\n",
       "      <th>ABRAND</th>\n",
       "      <th>AZEILPL</th>\n",
       "      <th>APLEZIER</th>\n",
       "      <th>AFIETS</th>\n",
       "      <th>AINBOED</th>\n",
       "      <th>ABYSTAND</th>\n",
       "      <th>Purchase</th>\n",
       "    </tr>\n",
       "  </thead>\n",
       "  <tbody>\n",
       "    <tr>\n",
       "      <th>0</th>\n",
       "      <td>1</td>\n",
       "      <td>33</td>\n",
       "      <td>1</td>\n",
       "      <td>3</td>\n",
       "      <td>2</td>\n",
       "      <td>8</td>\n",
       "      <td>0</td>\n",
       "      <td>5</td>\n",
       "      <td>1</td>\n",
       "      <td>3</td>\n",
       "      <td>...</td>\n",
       "      <td>0</td>\n",
       "      <td>0</td>\n",
       "      <td>0</td>\n",
       "      <td>1</td>\n",
       "      <td>0</td>\n",
       "      <td>0</td>\n",
       "      <td>0</td>\n",
       "      <td>0</td>\n",
       "      <td>0</td>\n",
       "      <td>No</td>\n",
       "    </tr>\n",
       "    <tr>\n",
       "      <th>1</th>\n",
       "      <td>2</td>\n",
       "      <td>37</td>\n",
       "      <td>1</td>\n",
       "      <td>2</td>\n",
       "      <td>2</td>\n",
       "      <td>8</td>\n",
       "      <td>1</td>\n",
       "      <td>4</td>\n",
       "      <td>1</td>\n",
       "      <td>4</td>\n",
       "      <td>...</td>\n",
       "      <td>0</td>\n",
       "      <td>0</td>\n",
       "      <td>0</td>\n",
       "      <td>1</td>\n",
       "      <td>0</td>\n",
       "      <td>0</td>\n",
       "      <td>0</td>\n",
       "      <td>0</td>\n",
       "      <td>0</td>\n",
       "      <td>No</td>\n",
       "    </tr>\n",
       "    <tr>\n",
       "      <th>2</th>\n",
       "      <td>3</td>\n",
       "      <td>37</td>\n",
       "      <td>1</td>\n",
       "      <td>2</td>\n",
       "      <td>2</td>\n",
       "      <td>8</td>\n",
       "      <td>0</td>\n",
       "      <td>4</td>\n",
       "      <td>2</td>\n",
       "      <td>4</td>\n",
       "      <td>...</td>\n",
       "      <td>0</td>\n",
       "      <td>0</td>\n",
       "      <td>0</td>\n",
       "      <td>1</td>\n",
       "      <td>0</td>\n",
       "      <td>0</td>\n",
       "      <td>0</td>\n",
       "      <td>0</td>\n",
       "      <td>0</td>\n",
       "      <td>No</td>\n",
       "    </tr>\n",
       "    <tr>\n",
       "      <th>3</th>\n",
       "      <td>4</td>\n",
       "      <td>9</td>\n",
       "      <td>1</td>\n",
       "      <td>3</td>\n",
       "      <td>3</td>\n",
       "      <td>3</td>\n",
       "      <td>2</td>\n",
       "      <td>3</td>\n",
       "      <td>2</td>\n",
       "      <td>4</td>\n",
       "      <td>...</td>\n",
       "      <td>0</td>\n",
       "      <td>0</td>\n",
       "      <td>0</td>\n",
       "      <td>1</td>\n",
       "      <td>0</td>\n",
       "      <td>0</td>\n",
       "      <td>0</td>\n",
       "      <td>0</td>\n",
       "      <td>0</td>\n",
       "      <td>No</td>\n",
       "    </tr>\n",
       "    <tr>\n",
       "      <th>4</th>\n",
       "      <td>5</td>\n",
       "      <td>40</td>\n",
       "      <td>1</td>\n",
       "      <td>4</td>\n",
       "      <td>2</td>\n",
       "      <td>10</td>\n",
       "      <td>1</td>\n",
       "      <td>4</td>\n",
       "      <td>1</td>\n",
       "      <td>4</td>\n",
       "      <td>...</td>\n",
       "      <td>0</td>\n",
       "      <td>0</td>\n",
       "      <td>0</td>\n",
       "      <td>1</td>\n",
       "      <td>0</td>\n",
       "      <td>0</td>\n",
       "      <td>0</td>\n",
       "      <td>0</td>\n",
       "      <td>0</td>\n",
       "      <td>No</td>\n",
       "    </tr>\n",
       "  </tbody>\n",
       "</table>\n",
       "<p>5 rows × 87 columns</p>\n",
       "</div>"
      ],
      "text/plain": [
       "   Unnamed: 0  MOSTYPE  MAANTHUI  MGEMOMV  MGEMLEEF  MOSHOOFD  MGODRK  MGODPR  \\\n",
       "0           1       33         1        3         2         8       0       5   \n",
       "1           2       37         1        2         2         8       1       4   \n",
       "2           3       37         1        2         2         8       0       4   \n",
       "3           4        9         1        3         3         3       2       3   \n",
       "4           5       40         1        4         2        10       1       4   \n",
       "\n",
       "   MGODOV  MGODGE  ...  APERSONG  AGEZONG  AWAOREG  ABRAND  AZEILPL  APLEZIER  \\\n",
       "0       1       3  ...         0        0        0       1        0         0   \n",
       "1       1       4  ...         0        0        0       1        0         0   \n",
       "2       2       4  ...         0        0        0       1        0         0   \n",
       "3       2       4  ...         0        0        0       1        0         0   \n",
       "4       1       4  ...         0        0        0       1        0         0   \n",
       "\n",
       "   AFIETS  AINBOED  ABYSTAND  Purchase  \n",
       "0       0        0         0        No  \n",
       "1       0        0         0        No  \n",
       "2       0        0         0        No  \n",
       "3       0        0         0        No  \n",
       "4       0        0         0        No  \n",
       "\n",
       "[5 rows x 87 columns]"
      ]
     },
     "execution_count": 88,
     "metadata": {},
     "output_type": "execute_result"
    }
   ],
   "source": [
    "caravan = pd.read_csv('data/Caravan.csv')\n",
    "caravan.head()"
   ]
  },
  {
   "cell_type": "code",
   "execution_count": 89,
   "metadata": {},
   "outputs": [
    {
     "data": {
      "text/plain": [
       "No     5474\n",
       "Yes     348\n",
       "Name: Purchase, dtype: int64"
      ]
     },
     "execution_count": 89,
     "metadata": {},
     "output_type": "execute_result"
    }
   ],
   "source": [
    "caravan[\"Purchase\"].value_counts()"
   ]
  },
  {
   "cell_type": "markdown",
   "metadata": {},
   "source": [
    "We need to **standardize the data** so that all variables are given **a mean of zero and a standard deviation of one**. Then all variables will be on a comparable scale. Otherwise predictors with higher values such as salary will drive the classification results and predictors with low values with have no effect.\n",
    "\n",
    "The $\\color{red}{scale()}$ function from SciKitLearn *preprocessing* module is a good way to standardize the data. We have to drop the column *Purchase* which is a qualitative variable.\n",
    "\n",
    "We'll now split the observations into a test set, containing the first 1,000 observations, and a training set, containing the remaining observations."
   ]
  },
  {
   "cell_type": "code",
   "execution_count": 90,
   "metadata": {},
   "outputs": [
    {
     "name": "stdout",
     "output_type": "stream",
     "text": [
      "Training features shape:  (4822, 86)\n",
      "Test features shape:  (1000, 86)\n"
     ]
    }
   ],
   "source": [
    "# Scaling, train-test split, and building design matrcies\n",
    "features = caravan.columns.drop('Purchase')\n",
    "response = 'Purchase'\n",
    "\n",
    "X_scaled = scale(caravan[features])\n",
    "X_train = X_scaled[1000:]\n",
    "y_train = caravan[response][1000:]\n",
    "X_test = X_scaled[:1000]\n",
    "y_test = caravan[response][:1000]\n",
    "\n",
    "print(\"Training features shape: \", X_train.shape)\n",
    "print(\"Test features shape: \", X_test.shape)"
   ]
  },
  {
   "cell_type": "markdown",
   "metadata": {},
   "source": [
    "Below we fit a KNN model on the training data using K=1,3,5 and evaluate its performance on the test data"
   ]
  },
  {
   "cell_type": "code",
   "execution_count": 100,
   "metadata": {},
   "outputs": [
    {
     "name": "stdout",
     "output_type": "stream",
     "text": [
      "\n",
      "======================\n",
      "K = 1:\n",
      "\n",
      "Confusion Matrix: \n"
     ]
    },
    {
     "data": {
      "text/html": [
       "<div>\n",
       "<style scoped>\n",
       "    .dataframe tbody tr th:only-of-type {\n",
       "        vertical-align: middle;\n",
       "    }\n",
       "\n",
       "    .dataframe tbody tr th {\n",
       "        vertical-align: top;\n",
       "    }\n",
       "\n",
       "    .dataframe thead tr th {\n",
       "        text-align: left;\n",
       "    }\n",
       "</style>\n",
       "<table border=\"1\" class=\"dataframe\">\n",
       "  <thead>\n",
       "    <tr>\n",
       "      <th></th>\n",
       "      <th></th>\n",
       "      <th colspan=\"2\" halign=\"left\">Predict</th>\n",
       "    </tr>\n",
       "    <tr>\n",
       "      <th></th>\n",
       "      <th></th>\n",
       "      <th>No</th>\n",
       "      <th>Yes</th>\n",
       "    </tr>\n",
       "  </thead>\n",
       "  <tbody>\n",
       "    <tr>\n",
       "      <th rowspan=\"2\" valign=\"top\">True</th>\n",
       "      <th>No</th>\n",
       "      <td>882</td>\n",
       "      <td>59</td>\n",
       "    </tr>\n",
       "    <tr>\n",
       "      <th>Yes</th>\n",
       "      <td>48</td>\n",
       "      <td>11</td>\n",
       "    </tr>\n",
       "  </tbody>\n",
       "</table>\n",
       "</div>"
      ],
      "text/plain": [
       "         Predict    \n",
       "              No Yes\n",
       "True No      882  59\n",
       "     Yes      48  11"
      ]
     },
     "metadata": {},
     "output_type": "display_data"
    },
    {
     "name": "stdout",
     "output_type": "stream",
     "text": [
      "\n",
      "Score:  0.893\n",
      "\n",
      "Classification Report:\n",
      "              precision    recall  f1-score   support\n",
      "\n",
      "          No      0.948     0.937     0.943       941\n",
      "         Yes      0.157     0.186     0.171        59\n",
      "\n",
      "    accuracy                          0.893      1000\n",
      "   macro avg      0.553     0.562     0.557      1000\n",
      "weighted avg      0.902     0.893     0.897      1000\n",
      "\n",
      "\n",
      "Percent of customers predicted to buy insurance that actually bought, TP/(TP+FP): 0.157\n",
      "\n",
      "======================\n",
      "K = 3:\n",
      "\n",
      "Confusion Matrix: \n"
     ]
    },
    {
     "data": {
      "text/html": [
       "<div>\n",
       "<style scoped>\n",
       "    .dataframe tbody tr th:only-of-type {\n",
       "        vertical-align: middle;\n",
       "    }\n",
       "\n",
       "    .dataframe tbody tr th {\n",
       "        vertical-align: top;\n",
       "    }\n",
       "\n",
       "    .dataframe thead tr th {\n",
       "        text-align: left;\n",
       "    }\n",
       "</style>\n",
       "<table border=\"1\" class=\"dataframe\">\n",
       "  <thead>\n",
       "    <tr>\n",
       "      <th></th>\n",
       "      <th></th>\n",
       "      <th colspan=\"2\" halign=\"left\">Predict</th>\n",
       "    </tr>\n",
       "    <tr>\n",
       "      <th></th>\n",
       "      <th></th>\n",
       "      <th>No</th>\n",
       "      <th>Yes</th>\n",
       "    </tr>\n",
       "  </thead>\n",
       "  <tbody>\n",
       "    <tr>\n",
       "      <th rowspan=\"2\" valign=\"top\">True</th>\n",
       "      <th>No</th>\n",
       "      <td>921</td>\n",
       "      <td>20</td>\n",
       "    </tr>\n",
       "    <tr>\n",
       "      <th>Yes</th>\n",
       "      <td>53</td>\n",
       "      <td>6</td>\n",
       "    </tr>\n",
       "  </tbody>\n",
       "</table>\n",
       "</div>"
      ],
      "text/plain": [
       "         Predict    \n",
       "              No Yes\n",
       "True No      921  20\n",
       "     Yes      53   6"
      ]
     },
     "metadata": {},
     "output_type": "display_data"
    },
    {
     "name": "stdout",
     "output_type": "stream",
     "text": [
      "\n",
      "Score:  0.927\n",
      "\n",
      "Classification Report:\n",
      "              precision    recall  f1-score   support\n",
      "\n",
      "          No      0.946     0.979     0.962       941\n",
      "         Yes      0.231     0.102     0.141        59\n",
      "\n",
      "    accuracy                          0.927      1000\n",
      "   macro avg      0.588     0.540     0.552      1000\n",
      "weighted avg      0.903     0.927     0.913      1000\n",
      "\n",
      "\n",
      "Percent of customers predicted to buy insurance that actually bought, TP/(TP+FP): 0.231\n",
      "\n",
      "======================\n",
      "K = 5:\n",
      "\n",
      "Confusion Matrix: \n"
     ]
    },
    {
     "data": {
      "text/html": [
       "<div>\n",
       "<style scoped>\n",
       "    .dataframe tbody tr th:only-of-type {\n",
       "        vertical-align: middle;\n",
       "    }\n",
       "\n",
       "    .dataframe tbody tr th {\n",
       "        vertical-align: top;\n",
       "    }\n",
       "\n",
       "    .dataframe thead tr th {\n",
       "        text-align: left;\n",
       "    }\n",
       "</style>\n",
       "<table border=\"1\" class=\"dataframe\">\n",
       "  <thead>\n",
       "    <tr>\n",
       "      <th></th>\n",
       "      <th></th>\n",
       "      <th colspan=\"2\" halign=\"left\">Predict</th>\n",
       "    </tr>\n",
       "    <tr>\n",
       "      <th></th>\n",
       "      <th></th>\n",
       "      <th>No</th>\n",
       "      <th>Yes</th>\n",
       "    </tr>\n",
       "  </thead>\n",
       "  <tbody>\n",
       "    <tr>\n",
       "      <th rowspan=\"2\" valign=\"top\">True</th>\n",
       "      <th>No</th>\n",
       "      <td>934</td>\n",
       "      <td>7</td>\n",
       "    </tr>\n",
       "    <tr>\n",
       "      <th>Yes</th>\n",
       "      <td>55</td>\n",
       "      <td>4</td>\n",
       "    </tr>\n",
       "  </tbody>\n",
       "</table>\n",
       "</div>"
      ],
      "text/plain": [
       "         Predict    \n",
       "              No Yes\n",
       "True No      934   7\n",
       "     Yes      55   4"
      ]
     },
     "metadata": {},
     "output_type": "display_data"
    },
    {
     "name": "stdout",
     "output_type": "stream",
     "text": [
      "\n",
      "Score:  0.938\n",
      "\n",
      "Classification Report:\n",
      "              precision    recall  f1-score   support\n",
      "\n",
      "          No      0.944     0.993     0.968       941\n",
      "         Yes      0.364     0.068     0.114        59\n",
      "\n",
      "    accuracy                          0.938      1000\n",
      "   macro avg      0.654     0.530     0.541      1000\n",
      "weighted avg      0.910     0.938     0.918      1000\n",
      "\n",
      "\n",
      "Percent of customers predicted to buy insurance that actually bought, TP/(TP+FP): 0.364\n"
     ]
    }
   ],
   "source": [
    "# KNN fit on training set with K=1,3,5 and predict on test set\n",
    "for K in (1, 3, 5):\n",
    "    print(\"\\n======================\\nK = {}:\".format(K))\n",
    "    knn = KNeighborsClassifier(n_neighbors=K)\n",
    "    knn.fit(X_train, y_train)\n",
    "    y_pred = knn.predict(X_test)\n",
    "\n",
    "    # Evaluate accuracy\n",
    "    cfmat_cnames = pd.MultiIndex.from_product([['Predict'], knn.classes_])\n",
    "    cfmat_index = pd.MultiIndex.from_product([['True'], knn.classes_])\n",
    "    cfmat = confusion_matrix(y_test, y_pred, labels=knn.classes_)\n",
    "    \n",
    "    print(\"\\nConfusion Matrix: \")\n",
    "    display(pd.DataFrame(cfmat, columns=cfmat_cnames, index=cfmat_index))\n",
    "    print('\\nScore: ', knn.score(X_test, y_test))\n",
    "    print('\\nClassification Report:')\n",
    "    print(classification_report(y_test, y_pred, digits=3))\n",
    "    \n",
    "    print(\"\\nPercent of customers predicted to buy insurance that actually bought, TP/(TP+FP): {0:.3f}\".format(cfmat[1][1]/(cfmat[1][1]+cfmat[0][1])))"
   ]
  },
  {
   "cell_type": "markdown",
   "metadata": {},
   "source": [
    "When K = 1, The KNN error rate on the 1,000 test observations is just under 12%. At first glance, this may appear to be fairly good. However, since only 6% of customers purchased insurance, we could get the error rate down to 6% by always predicting No regardless of the values of the predictors!\n",
    "\n",
    "**So the overall error rate is not of interest. Instead, the fraction of individuals that are correctly predicted to buy insurance (precision or $\\frac{TP}{TP+FP}$) is of interest.**"
   ]
  },
  {
   "cell_type": "code",
   "execution_count": 116,
   "metadata": {},
   "outputs": [
    {
     "name": "stdout",
     "output_type": "stream",
     "text": [
      "\n",
      "Confusion Matrix: \n"
     ]
    },
    {
     "name": "stderr",
     "output_type": "stream",
     "text": [
      "/home/ggbong/anaconda3/lib/python3.7/site-packages/sklearn/linear_model/_logistic.py:940: ConvergenceWarning: lbfgs failed to converge (status=1):\n",
      "STOP: TOTAL NO. of ITERATIONS REACHED LIMIT.\n",
      "\n",
      "Increase the number of iterations (max_iter) or scale the data as shown in:\n",
      "    https://scikit-learn.org/stable/modules/preprocessing.html\n",
      "Please also refer to the documentation for alternative solver options:\n",
      "    https://scikit-learn.org/stable/modules/linear_model.html#logistic-regression\n",
      "  extra_warning_msg=_LOGISTIC_SOLVER_CONVERGENCE_MSG)\n"
     ]
    },
    {
     "data": {
      "text/html": [
       "<div>\n",
       "<style scoped>\n",
       "    .dataframe tbody tr th:only-of-type {\n",
       "        vertical-align: middle;\n",
       "    }\n",
       "\n",
       "    .dataframe tbody tr th {\n",
       "        vertical-align: top;\n",
       "    }\n",
       "\n",
       "    .dataframe thead tr th {\n",
       "        text-align: left;\n",
       "    }\n",
       "</style>\n",
       "<table border=\"1\" class=\"dataframe\">\n",
       "  <thead>\n",
       "    <tr>\n",
       "      <th></th>\n",
       "      <th></th>\n",
       "      <th colspan=\"2\" halign=\"left\">Predict</th>\n",
       "    </tr>\n",
       "    <tr>\n",
       "      <th></th>\n",
       "      <th></th>\n",
       "      <th>No</th>\n",
       "      <th>Yes</th>\n",
       "    </tr>\n",
       "  </thead>\n",
       "  <tbody>\n",
       "    <tr>\n",
       "      <th rowspan=\"2\" valign=\"top\">True</th>\n",
       "      <th>No</th>\n",
       "      <td>935</td>\n",
       "      <td>6</td>\n",
       "    </tr>\n",
       "    <tr>\n",
       "      <th>Yes</th>\n",
       "      <td>59</td>\n",
       "      <td>0</td>\n",
       "    </tr>\n",
       "  </tbody>\n",
       "</table>\n",
       "</div>"
      ],
      "text/plain": [
       "         Predict    \n",
       "              No Yes\n",
       "True No      935   6\n",
       "     Yes      59   0"
      ]
     },
     "metadata": {},
     "output_type": "display_data"
    },
    {
     "name": "stdout",
     "output_type": "stream",
     "text": [
      "\n",
      "Classification Report:\n",
      "              precision    recall  f1-score   support\n",
      "\n",
      "          No      0.941     0.994     0.966       941\n",
      "         Yes      0.000     0.000     0.000        59\n",
      "\n",
      "    accuracy                          0.935      1000\n",
      "   macro avg      0.470     0.497     0.483      1000\n",
      "weighted avg      0.885     0.935     0.909      1000\n",
      "\n",
      "\n",
      "Percent of customers predicted to buy insurance that actually bought, TP/(TP+FP): 0.000\n"
     ]
    }
   ],
   "source": [
    "# Logistic regression on training set and predict on test set\n",
    "logreg = LogisticRegression(C=1e9, max_iter=100)  # Large C to disable regularization\n",
    "logreg.fit(X_train, y_train)\n",
    "y_pred = logreg.predict(X_test)\n",
    "\n",
    "# Evaluate accuracy\n",
    "cfmat_cnames = pd.MultiIndex.from_product([['Predict'], logreg.classes_])\n",
    "cfmat_index = pd.MultiIndex.from_product([['True'], logreg.classes_])\n",
    "cfmat = confusion_matrix(y_test, y_pred, labels=logreg.classes_)\n",
    "\n",
    "print(\"\\nConfusion Matrix: \")\n",
    "display(pd.DataFrame(cfmat, columns=cfmat_cnames, index=cfmat_index))\n",
    "print('\\nClassification Report:')\n",
    "print(classification_report(y_test, y_pred, digits=3))\n",
    "\n",
    "print(\"\\nPercent of customers predicted to buy insurance that actually bought, \\\n",
    "TP/(TP+FP): {0:.3f}\".format(cfmat[1][1]/(cfmat[1][1]+cfmat[0][1])))"
   ]
  },
  {
   "cell_type": "code",
   "execution_count": 107,
   "metadata": {},
   "outputs": [
    {
     "name": "stdout",
     "output_type": "stream",
     "text": [
      "\n",
      "Confusion Matrix: \n"
     ]
    },
    {
     "data": {
      "text/html": [
       "<div>\n",
       "<style scoped>\n",
       "    .dataframe tbody tr th:only-of-type {\n",
       "        vertical-align: middle;\n",
       "    }\n",
       "\n",
       "    .dataframe tbody tr th {\n",
       "        vertical-align: top;\n",
       "    }\n",
       "\n",
       "    .dataframe thead tr th {\n",
       "        text-align: left;\n",
       "    }\n",
       "</style>\n",
       "<table border=\"1\" class=\"dataframe\">\n",
       "  <thead>\n",
       "    <tr>\n",
       "      <th></th>\n",
       "      <th></th>\n",
       "      <th colspan=\"2\" halign=\"left\">Predict</th>\n",
       "    </tr>\n",
       "    <tr>\n",
       "      <th></th>\n",
       "      <th></th>\n",
       "      <th>No</th>\n",
       "      <th>Yes</th>\n",
       "    </tr>\n",
       "  </thead>\n",
       "  <tbody>\n",
       "    <tr>\n",
       "      <th rowspan=\"2\" valign=\"top\">True</th>\n",
       "      <th>No</th>\n",
       "      <td>920</td>\n",
       "      <td>21</td>\n",
       "    </tr>\n",
       "    <tr>\n",
       "      <th>Yes</th>\n",
       "      <td>48</td>\n",
       "      <td>11</td>\n",
       "    </tr>\n",
       "  </tbody>\n",
       "</table>\n",
       "</div>"
      ],
      "text/plain": [
       "         Predict    \n",
       "              No Yes\n",
       "True No      920  21\n",
       "     Yes      48  11"
      ]
     },
     "metadata": {},
     "output_type": "display_data"
    },
    {
     "name": "stdout",
     "output_type": "stream",
     "text": [
      "\n",
      "Classification Report:\n",
      "              precision    recall  f1-score   support\n",
      "\n",
      "          No      0.950     0.978     0.964       941\n",
      "         Yes      0.344     0.186     0.242        59\n",
      "\n",
      "    accuracy                          0.931      1000\n",
      "   macro avg      0.647     0.582     0.603      1000\n",
      "weighted avg      0.915     0.931     0.921      1000\n",
      "\n",
      "\n",
      "Percent of customers predicted to buy insurance that actually bought, TP/(TP+FP): 0.344\n"
     ]
    }
   ],
   "source": [
    "# Generate predicts with decision threshold = 0.25\n",
    "posterior = logreg.predict_proba(X_test)\n",
    "Yes_idx = np.where(logreg.classes_ == 'Yes')[0][0]\n",
    "y_pred = pd.Series(posterior[:, Yes_idx] > 0.25)\n",
    "y_pred.replace([True, False], ['Yes', 'No'], inplace=True)\n",
    "\n",
    "# Evaluate accuracy\n",
    "cfmat = confusion_matrix(y_test, y_pred, labels=logreg.classes_)\n",
    "print(\"\\nConfusion Matrix: \")\n",
    "display(pd.DataFrame(cfmat, columns=cfmat_cnames, index=cfmat_index))\n",
    "print('\\nClassification Report:')\n",
    "print(classification_report(y_test, y_pred, digits=3))\n",
    "\n",
    "print(\"\\nPercent of customers predicted to buy insurance that actually bought,\\\n",
    " TP/(TP+FP): {0:.3f}\".format(cfmat[1][1]/(cfmat[1][1]+cfmat[0][1])))"
   ]
  },
  {
   "cell_type": "markdown",
   "metadata": {},
   "source": [
    "# EXERCISES"
   ]
  },
  {
   "cell_type": "markdown",
   "metadata": {},
   "source": [
    "## *Conceptual*"
   ]
  },
  {
   "cell_type": "markdown",
   "metadata": {},
   "source": [
    "1. Simple algebra to prove that the logistic function representation is equal to logit representation. \n",
    "\n",
    "$ p(X) = \\frac{e^{\\beta_0+\\beta_1X}}{1 + e^{\\beta_0+\\beta_1X}}$         Eq. (4.2)\n",
    "\n",
    "$\\frac{p(X)}{1-p(X)} = e^{\\beta_0+\\beta_1X}$            Eq. (4.3)\n",
    "\n",
    "To do this: we can assign $b = e^{\\beta_0+\\beta_1X}$, and get:\n",
    "\n",
    "$ p(X)(1+b) = b$\n",
    "\n",
    "$p(X) + p(X)b = b$\n",
    "\n",
    "$p(X) = b(1-p(X)$\n",
    "\n",
    "$\\frac{p(X)}{1-p(X)} = b = e^{\\beta_0+\\beta_1X}$"
   ]
  },
  {
   "attachments": {
    "image.png": {
     "image/png": "[encoded data removed]"
    }
   },
   "cell_type": "markdown",
   "metadata": {},
   "source": [
    "2. Show that the for Linear Discriminant analysis, under the assumption that the observations in the kth class are drawn from a normal distribution $N(\\mu_k,\\sigma^2)$, the Bayes' classifier assigns an observation to the class for which the discriminant function (4.13) is maximized. This is similar to classifying an observation to the class for which (4.12) is largest. The top is (4.12) which is the probability for each class while the bottom is (4.13).\n",
    "\n",
    "![image.png](attachment:image.png)"
   ]
  },
  {
   "attachments": {
    "image.png": {
     "image/png": "[encoded data removed]"
    }
   },
   "cell_type": "markdown",
   "metadata": {},
   "source": [
    "3. Show that for Quadratic Discriminant Analysis model when number of feature = 1, and number of classes = *k*, the discriminant function which is derived from the density function for normal distribution is not linear. In other words, show that the Bayes classifier is not linear and is in fact quadratic.\n",
    "\n",
    "![image.png](attachment:image.png)"
   ]
  },
  {
   "cell_type": "markdown",
   "metadata": {},
   "source": [
    "4. When number of features, p, is large, there is a deterioration in the performance of KNN and other *local* approaches, that perform prediction using observations near the test observation for which a prediction must be made. This is also called the *curse of dimensionality* and ties in with the fact that non-parametric approaches often perform poorly when *p* is large. "
   ]
  },
  {
   "cell_type": "markdown",
   "metadata": {},
   "source": [
    "4a) The probability of drawing a value between 0.55 and 0.65 from a uniform distribution [0,1] is 10%."
   ]
  },
  {
   "cell_type": "markdown",
   "metadata": {},
   "source": [
    "4b) Probability of drawing between [0.55, 0.65] from $X_1$ and drawing between [0.3, 0.4] from $X_2$ is 0.1 * 0.1 = 0.01 or 1%"
   ]
  },
  {
   "cell_type": "markdown",
   "metadata": {},
   "source": [
    "4c) The probability of being able to predict a response using observations within 10% of each feature's range closest to the test observation, when number of features= 100 is very very low.\n",
    "$p = 0.1^{100}=10^{-98}\\%$"
   ]
  },
  {
   "cell_type": "markdown",
   "metadata": {},
   "source": [
    "4d) As number of features, p, increases, the number of points near an observation decreases exponentially."
   ]
  },
  {
   "cell_type": "markdown",
   "metadata": {},
   "source": [
    "4e) \n",
    "\n",
    "$p=1$ , $l=0.10$\n",
    "\n",
    "$p=2, l=\\sqrt{0.10}=0.32$\n",
    "\n",
    "$p=3, l=0.10^{\\frac{1}{3}}=0.46$\n",
    "\n",
    "$p=N, l=0.10^{\\frac{1}{N}}$\n",
    "\n",
    "As we can see the hypercube gets exponentially bigger as N increases\n"
   ]
  },
  {
   "cell_type": "markdown",
   "metadata": {},
   "source": [
    "5a) If the Bayes decision boundary is linear, we expeect QDA to perform better on the training set as it is more flexible but LDA will perform better on unseen test set as QDA might be overfit to the training data. "
   ]
  },
  {
   "cell_type": "markdown",
   "metadata": {},
   "source": [
    "5b) If Bayes decision boundary is non-linear, QDA will perform better on both training and test set and the bias will be reduced significantly by adding non-linearity to the model, the bias will decrease much more than the minor increase in variance. "
   ]
  },
  {
   "cell_type": "markdown",
   "metadata": {},
   "source": [
    "5c) As sample size, n, increases, the variance of the model will be decreased (as the train data will be more representative of the population and less prone to large influence by a small number of outliers), thus we expect the prediction accuracy of QDA relative to LDA to improve. When n is small, the variance of the QDA model is higher than LDA, but the bias of QDA is lower than LDA. As n increases, higher variance of QDA will be offset by more sample, and QDA being a more flexible method will yield better fit (bias low), thus prediction accuracy of QDA relative to LDA will increase."
   ]
  },
  {
   "cell_type": "markdown",
   "metadata": {},
   "source": [
    "5d) False. The QDA might be too flexible and overfit the training data especially if sample size is small, so even though its training performance might be superior, the performance on unseen test data might suffer. "
   ]
  },
  {
   "attachments": {
    "image.png": {
     "image/png": "[encoded data removed]"
    }
   },
   "cell_type": "markdown",
   "metadata": {},
   "source": [
    "6a) The probability for an observation to be in a class is given by p(X). Plugging in $\\hat{\\beta}_0$, $\\hat{\\beta}_1$, $\\hat{\\beta}_2$ into the logistic regression equation, we can calculate the probability that a student gets A (response variable) given that GPA = 3.5, studies = 40 h. ![image.png](attachment:image.png)"
   ]
  },
  {
   "attachments": {
    "image.png": {
     "image/png": "[encoded data removed]"
    }
   },
   "cell_type": "markdown",
   "metadata": {},
   "source": [
    "6b) To calculate the number of hours, $X_1$ a student with GPA of 3.5, $X_2$, will need to get a 50% chance, $p(X)$, of getting an A: ![image.png](attachment:image.png)"
   ]
  },
  {
   "cell_type": "markdown",
   "metadata": {},
   "source": [
    "7) Plugging in variables into Equation (4.12), see question 3, to get probability of getting a yes, $p_{yes}(X)$ "
   ]
  },
  {
   "cell_type": "markdown",
   "metadata": {},
   "source": [
    "8) Given: Logistic regression: 20% training error rate, 30% test error rate KNN(K=1): average error rate of 18%\n",
    "\n",
    "**For KNN with K=1, the training error rate is 0% because for any training observation, its nearest neighbor will be the response itself**. So, KNN has a test error rate of 36%. I would choose logistic regression because of its lower test error rate of 30%."
   ]
  },
  {
   "cell_type": "markdown",
   "metadata": {},
   "source": [
    "9) *Odds*. What percentage of people with an odds of 0.37 of defaulting will in fact default? \n",
    "\n",
    "$Odd = 0.37 = \\frac{p(X)}{1-p(X)}$\n",
    "\n",
    "p(X) = 0.27"
   ]
  },
  {
   "cell_type": "markdown",
   "metadata": {},
   "source": [
    "9b) if $p(X) = 0.16$, $Odds = \\frac{p(X)}{1-p(X)} = 0.19$ "
   ]
  },
  {
   "cell_type": "markdown",
   "metadata": {},
   "source": [
    "10. This question is answered using the Weekly data set. This data is similar in nature to the market data from the above lab, except it contains 1089 weekly returns for 21 years, from the beginning of 1990 to the end of 2010. "
   ]
  },
  {
   "cell_type": "code",
   "execution_count": 121,
   "metadata": {},
   "outputs": [
    {
     "data": {
      "text/html": [
       "<div>\n",
       "<style scoped>\n",
       "    .dataframe tbody tr th:only-of-type {\n",
       "        vertical-align: middle;\n",
       "    }\n",
       "\n",
       "    .dataframe tbody tr th {\n",
       "        vertical-align: top;\n",
       "    }\n",
       "\n",
       "    .dataframe thead th {\n",
       "        text-align: right;\n",
       "    }\n",
       "</style>\n",
       "<table border=\"1\" class=\"dataframe\">\n",
       "  <thead>\n",
       "    <tr style=\"text-align: right;\">\n",
       "      <th></th>\n",
       "      <th>Year</th>\n",
       "      <th>Lag1</th>\n",
       "      <th>Lag2</th>\n",
       "      <th>Lag3</th>\n",
       "      <th>Lag4</th>\n",
       "      <th>Lag5</th>\n",
       "      <th>Volume</th>\n",
       "      <th>Today</th>\n",
       "      <th>Direction</th>\n",
       "    </tr>\n",
       "  </thead>\n",
       "  <tbody>\n",
       "    <tr>\n",
       "      <th>0</th>\n",
       "      <td>1990</td>\n",
       "      <td>0.816</td>\n",
       "      <td>1.572</td>\n",
       "      <td>-3.936</td>\n",
       "      <td>-0.229</td>\n",
       "      <td>-3.484</td>\n",
       "      <td>0.154976</td>\n",
       "      <td>-0.270</td>\n",
       "      <td>Down</td>\n",
       "    </tr>\n",
       "    <tr>\n",
       "      <th>1</th>\n",
       "      <td>1990</td>\n",
       "      <td>-0.270</td>\n",
       "      <td>0.816</td>\n",
       "      <td>1.572</td>\n",
       "      <td>-3.936</td>\n",
       "      <td>-0.229</td>\n",
       "      <td>0.148574</td>\n",
       "      <td>-2.576</td>\n",
       "      <td>Down</td>\n",
       "    </tr>\n",
       "    <tr>\n",
       "      <th>2</th>\n",
       "      <td>1990</td>\n",
       "      <td>-2.576</td>\n",
       "      <td>-0.270</td>\n",
       "      <td>0.816</td>\n",
       "      <td>1.572</td>\n",
       "      <td>-3.936</td>\n",
       "      <td>0.159837</td>\n",
       "      <td>3.514</td>\n",
       "      <td>Up</td>\n",
       "    </tr>\n",
       "    <tr>\n",
       "      <th>3</th>\n",
       "      <td>1990</td>\n",
       "      <td>3.514</td>\n",
       "      <td>-2.576</td>\n",
       "      <td>-0.270</td>\n",
       "      <td>0.816</td>\n",
       "      <td>1.572</td>\n",
       "      <td>0.161630</td>\n",
       "      <td>0.712</td>\n",
       "      <td>Up</td>\n",
       "    </tr>\n",
       "    <tr>\n",
       "      <th>4</th>\n",
       "      <td>1990</td>\n",
       "      <td>0.712</td>\n",
       "      <td>3.514</td>\n",
       "      <td>-2.576</td>\n",
       "      <td>-0.270</td>\n",
       "      <td>0.816</td>\n",
       "      <td>0.153728</td>\n",
       "      <td>1.178</td>\n",
       "      <td>Up</td>\n",
       "    </tr>\n",
       "  </tbody>\n",
       "</table>\n",
       "</div>"
      ],
      "text/plain": [
       "   Year   Lag1   Lag2   Lag3   Lag4   Lag5    Volume  Today Direction\n",
       "0  1990  0.816  1.572 -3.936 -0.229 -3.484  0.154976 -0.270      Down\n",
       "1  1990 -0.270  0.816  1.572 -3.936 -0.229  0.148574 -2.576      Down\n",
       "2  1990 -2.576 -0.270  0.816  1.572 -3.936  0.159837  3.514        Up\n",
       "3  1990  3.514 -2.576 -0.270  0.816  1.572  0.161630  0.712        Up\n",
       "4  1990  0.712  3.514 -2.576 -0.270  0.816  0.153728  1.178        Up"
      ]
     },
     "execution_count": 121,
     "metadata": {},
     "output_type": "execute_result"
    }
   ],
   "source": [
    "df = pd.read_csv('data/Weekly.csv')\n",
    "df.head()"
   ]
  },
  {
   "cell_type": "code",
   "execution_count": 127,
   "metadata": {},
   "outputs": [
    {
     "data": {
      "text/html": [
       "<div>\n",
       "<style scoped>\n",
       "    .dataframe tbody tr th:only-of-type {\n",
       "        vertical-align: middle;\n",
       "    }\n",
       "\n",
       "    .dataframe tbody tr th {\n",
       "        vertical-align: top;\n",
       "    }\n",
       "\n",
       "    .dataframe thead th {\n",
       "        text-align: right;\n",
       "    }\n",
       "</style>\n",
       "<table border=\"1\" class=\"dataframe\">\n",
       "  <thead>\n",
       "    <tr style=\"text-align: right;\">\n",
       "      <th></th>\n",
       "      <th>Year</th>\n",
       "      <th>Lag1</th>\n",
       "      <th>Lag2</th>\n",
       "      <th>Lag3</th>\n",
       "      <th>Lag4</th>\n",
       "      <th>Lag5</th>\n",
       "      <th>Volume</th>\n",
       "      <th>Today</th>\n",
       "    </tr>\n",
       "  </thead>\n",
       "  <tbody>\n",
       "    <tr>\n",
       "      <th>Year</th>\n",
       "      <td>1.000000</td>\n",
       "      <td>-0.032289</td>\n",
       "      <td>-0.033390</td>\n",
       "      <td>-0.030006</td>\n",
       "      <td>-0.031128</td>\n",
       "      <td>-0.030519</td>\n",
       "      <td>0.841942</td>\n",
       "      <td>-0.032460</td>\n",
       "    </tr>\n",
       "    <tr>\n",
       "      <th>Lag1</th>\n",
       "      <td>-0.032289</td>\n",
       "      <td>1.000000</td>\n",
       "      <td>-0.074853</td>\n",
       "      <td>0.058636</td>\n",
       "      <td>-0.071274</td>\n",
       "      <td>-0.008183</td>\n",
       "      <td>-0.064951</td>\n",
       "      <td>-0.075032</td>\n",
       "    </tr>\n",
       "    <tr>\n",
       "      <th>Lag2</th>\n",
       "      <td>-0.033390</td>\n",
       "      <td>-0.074853</td>\n",
       "      <td>1.000000</td>\n",
       "      <td>-0.075721</td>\n",
       "      <td>0.058382</td>\n",
       "      <td>-0.072499</td>\n",
       "      <td>-0.085513</td>\n",
       "      <td>0.059167</td>\n",
       "    </tr>\n",
       "    <tr>\n",
       "      <th>Lag3</th>\n",
       "      <td>-0.030006</td>\n",
       "      <td>0.058636</td>\n",
       "      <td>-0.075721</td>\n",
       "      <td>1.000000</td>\n",
       "      <td>-0.075396</td>\n",
       "      <td>0.060657</td>\n",
       "      <td>-0.069288</td>\n",
       "      <td>-0.071244</td>\n",
       "    </tr>\n",
       "    <tr>\n",
       "      <th>Lag4</th>\n",
       "      <td>-0.031128</td>\n",
       "      <td>-0.071274</td>\n",
       "      <td>0.058382</td>\n",
       "      <td>-0.075396</td>\n",
       "      <td>1.000000</td>\n",
       "      <td>-0.075675</td>\n",
       "      <td>-0.061075</td>\n",
       "      <td>-0.007826</td>\n",
       "    </tr>\n",
       "    <tr>\n",
       "      <th>Lag5</th>\n",
       "      <td>-0.030519</td>\n",
       "      <td>-0.008183</td>\n",
       "      <td>-0.072499</td>\n",
       "      <td>0.060657</td>\n",
       "      <td>-0.075675</td>\n",
       "      <td>1.000000</td>\n",
       "      <td>-0.058517</td>\n",
       "      <td>0.011013</td>\n",
       "    </tr>\n",
       "    <tr>\n",
       "      <th>Volume</th>\n",
       "      <td>0.841942</td>\n",
       "      <td>-0.064951</td>\n",
       "      <td>-0.085513</td>\n",
       "      <td>-0.069288</td>\n",
       "      <td>-0.061075</td>\n",
       "      <td>-0.058517</td>\n",
       "      <td>1.000000</td>\n",
       "      <td>-0.033078</td>\n",
       "    </tr>\n",
       "    <tr>\n",
       "      <th>Today</th>\n",
       "      <td>-0.032460</td>\n",
       "      <td>-0.075032</td>\n",
       "      <td>0.059167</td>\n",
       "      <td>-0.071244</td>\n",
       "      <td>-0.007826</td>\n",
       "      <td>0.011013</td>\n",
       "      <td>-0.033078</td>\n",
       "      <td>1.000000</td>\n",
       "    </tr>\n",
       "  </tbody>\n",
       "</table>\n",
       "</div>"
      ],
      "text/plain": [
       "            Year      Lag1      Lag2      Lag3      Lag4      Lag5    Volume  \\\n",
       "Year    1.000000 -0.032289 -0.033390 -0.030006 -0.031128 -0.030519  0.841942   \n",
       "Lag1   -0.032289  1.000000 -0.074853  0.058636 -0.071274 -0.008183 -0.064951   \n",
       "Lag2   -0.033390 -0.074853  1.000000 -0.075721  0.058382 -0.072499 -0.085513   \n",
       "Lag3   -0.030006  0.058636 -0.075721  1.000000 -0.075396  0.060657 -0.069288   \n",
       "Lag4   -0.031128 -0.071274  0.058382 -0.075396  1.000000 -0.075675 -0.061075   \n",
       "Lag5   -0.030519 -0.008183 -0.072499  0.060657 -0.075675  1.000000 -0.058517   \n",
       "Volume  0.841942 -0.064951 -0.085513 -0.069288 -0.061075 -0.058517  1.000000   \n",
       "Today  -0.032460 -0.075032  0.059167 -0.071244 -0.007826  0.011013 -0.033078   \n",
       "\n",
       "           Today  \n",
       "Year   -0.032460  \n",
       "Lag1   -0.075032  \n",
       "Lag2    0.059167  \n",
       "Lag3   -0.071244  \n",
       "Lag4   -0.007826  \n",
       "Lag5    0.011013  \n",
       "Volume -0.033078  \n",
       "Today   1.000000  "
      ]
     },
     "execution_count": 127,
     "metadata": {},
     "output_type": "execute_result"
    }
   ],
   "source": [
    "df.corr()"
   ]
  },
  {
   "cell_type": "code",
   "execution_count": 126,
   "metadata": {},
   "outputs": [
    {
     "data": {
      "text/plain": [
       "<seaborn.axisgrid.PairGrid at 0x7fd2fb360850>"
      ]
     },
     "execution_count": 126,
     "metadata": {},
     "output_type": "execute_result"
    },
    {
     "data": {
      "image/png": "[encoded data removed]",
      "text/plain": [
       "<Figure size 691.2x691.2 with 72 Axes>"
      ]
     },
     "metadata": {},
     "output_type": "display_data"
    }
   ],
   "source": [
    "sns.pairplot(df, aspect = 1, height = 1.2)"
   ]
  },
  {
   "cell_type": "markdown",
   "metadata": {},
   "source": [
    "There appears to be some correlation between Year and Volume. No other trends observed. "
   ]
  },
  {
   "cell_type": "code",
   "execution_count": 128,
   "metadata": {},
   "outputs": [
    {
     "name": "stdout",
     "output_type": "stream",
     "text": [
      "Deviance Residuals:\n"
     ]
    },
    {
     "data": {
      "text/plain": [
       "count    1089.000000\n",
       "mean       -0.036122\n",
       "std         1.168260\n",
       "min        -1.457925\n",
       "25%        -1.084873\n",
       "50%        -0.991291\n",
       "75%         1.256536\n",
       "max         1.694940\n",
       "dtype: float64"
      ]
     },
     "metadata": {},
     "output_type": "display_data"
    },
    {
     "name": "stdout",
     "output_type": "stream",
     "text": [
      "                          Generalized Linear Model Regression Results                           \n",
      "================================================================================================\n",
      "Dep. Variable:     ['Direction[Down]', 'Direction[Up]']   No. Observations:                 1089\n",
      "Model:                                              GLM   Df Residuals:                     1082\n",
      "Model Family:                                  Binomial   Df Model:                            6\n",
      "Link Function:                                    logit   Scale:                          1.0000\n",
      "Method:                                            IRLS   Log-Likelihood:                -743.18\n",
      "Date:                                  Sat, 02 May 2020   Deviance:                       1486.4\n",
      "Time:                                          22:46:15   Pearson chi2:                 1.09e+03\n",
      "No. Iterations:                                       4                                         \n",
      "Covariance Type:                              nonrobust                                         \n",
      "==============================================================================\n",
      "                 coef    std err          z      P>|z|      [0.025      0.975]\n",
      "------------------------------------------------------------------------------\n",
      "Intercept     -0.2669      0.086     -3.106      0.002      -0.435      -0.098\n",
      "Lag1           0.0413      0.026      1.563      0.118      -0.010       0.093\n",
      "Lag2          -0.0584      0.027     -2.175      0.030      -0.111      -0.006\n",
      "Lag3           0.0161      0.027      0.602      0.547      -0.036       0.068\n",
      "Lag4           0.0278      0.026      1.050      0.294      -0.024       0.080\n",
      "Lag5           0.0145      0.026      0.549      0.583      -0.037       0.066\n",
      "Volume         0.0227      0.037      0.616      0.538      -0.050       0.095\n",
      "==============================================================================\n",
      "\n",
      "    Null deviance: 1496.2 on 1088 degrees of freedom\n",
      "Residual deviance: 1486.4 on 1082 degrees of freedom\n",
      "AIC: 1500.36\n"
     ]
    }
   ],
   "source": [
    "# Logistic regression by GLM\n",
    "formula = 'Direction ~ Lag1 + Lag2 + Lag3 + Lag4 + Lag5 + Volume'\n",
    "weekly_glm = smf.glm(formula, data=df, family=sm.families.Binomial()).fit() \n",
    "\n",
    "print('Deviance Residuals:')\n",
    "display(weekly_glm.resid_deviance.describe())\n",
    "print(weekly_glm.summary())\n",
    "print('\\n    Null deviance: {0:.1f} on {1} degrees of freedom'.format(weekly_glm.null_deviance, weekly_glm.df_model+weekly_glm.df_resid))\n",
    "print('Residual deviance: {0:.1f} on {1} degrees of freedom'.format(weekly_glm.deviance, weekly_glm.df_resid))\n",
    "print('AIC: {0:.2f}'.format(weekly_glm.aic))                "
   ]
  },
  {
   "cell_type": "markdown",
   "metadata": {},
   "source": [
    "The variable Lag2 has the lowest p-value, less than 0.05, and is statistically significant. "
   ]
  },
  {
   "cell_type": "code",
   "execution_count": 135,
   "metadata": {},
   "outputs": [
    {
     "name": "stdout",
     "output_type": "stream",
     "text": [
      "\n",
      "Confusion Matrix: \n"
     ]
    },
    {
     "data": {
      "text/html": [
       "<div>\n",
       "<style scoped>\n",
       "    .dataframe tbody tr th:only-of-type {\n",
       "        vertical-align: middle;\n",
       "    }\n",
       "\n",
       "    .dataframe tbody tr th {\n",
       "        vertical-align: top;\n",
       "    }\n",
       "\n",
       "    .dataframe thead tr th {\n",
       "        text-align: left;\n",
       "    }\n",
       "</style>\n",
       "<table border=\"1\" class=\"dataframe\">\n",
       "  <thead>\n",
       "    <tr>\n",
       "      <th></th>\n",
       "      <th></th>\n",
       "      <th colspan=\"2\" halign=\"left\">Predict</th>\n",
       "    </tr>\n",
       "    <tr>\n",
       "      <th></th>\n",
       "      <th></th>\n",
       "      <th>Down</th>\n",
       "      <th>Up</th>\n",
       "    </tr>\n",
       "  </thead>\n",
       "  <tbody>\n",
       "    <tr>\n",
       "      <th rowspan=\"2\" valign=\"top\">True</th>\n",
       "      <th>Down</th>\n",
       "      <td>54</td>\n",
       "      <td>430</td>\n",
       "    </tr>\n",
       "    <tr>\n",
       "      <th>Up</th>\n",
       "      <td>48</td>\n",
       "      <td>557</td>\n",
       "    </tr>\n",
       "  </tbody>\n",
       "</table>\n",
       "</div>"
      ],
      "text/plain": [
       "          Predict     \n",
       "             Down   Up\n",
       "True Down      54  430\n",
       "     Up        48  557"
      ]
     },
     "metadata": {},
     "output_type": "display_data"
    }
   ],
   "source": [
    "# Specify features and response\n",
    "features = ['Lag1', 'Lag2', 'Lag3', 'Lag4', 'Lag5', 'Volume']\n",
    "response = 'Direction'\n",
    "\n",
    "# Fit on training data subset using sklearn\n",
    "X = df[features]\n",
    "y = df[response]\n",
    "logreg = LogisticRegression(C=1e9)  # Use a large C to disable regularization\n",
    "logreg.fit(X, y)\n",
    "\n",
    "# Prediction on test data subset using sklearn\n",
    "y_pred = logreg.predict(X)\n",
    "\n",
    "# Evaluate accuracy\n",
    "cfmat_cnames = pd.MultiIndex.from_product([['Predict'], logreg.classes_])\n",
    "cfmat_index = pd.MultiIndex.from_product([['True'], logreg.classes_])\n",
    "cfmat = confusion_matrix(y, y_pred, labels=logreg.classes_)\n",
    "print(\"\\nConfusion Matrix: \")\n",
    "display(pd.DataFrame(cfmat, columns=cfmat_cnames, index=cfmat_index))"
   ]
  },
  {
   "cell_type": "markdown",
   "metadata": {},
   "source": [
    "Percentage of currect predictions: (54+557)/(54+557+48+430) = 56.1%. Weeks the market goes up the logistic regression is right most of the time, 557/(557+48) = 92.1%. Weeks the market goes down the logistic regression is wrong most of the time 54/(430+54) = 11.2%."
   ]
  },
  {
   "cell_type": "markdown",
   "metadata": {},
   "source": [
    "10d) Repeat the Logistic Regression using Lag2 as the only predictor"
   ]
  },
  {
   "cell_type": "code",
   "execution_count": 131,
   "metadata": {},
   "outputs": [
    {
     "name": "stdout",
     "output_type": "stream",
     "text": [
      "Training dataset shape:  (776, 9)\n",
      "Test dataset shape:  (104, 9)\n"
     ]
    }
   ],
   "source": [
    "# Manual train-test split\n",
    "weekly_train = df[df.Year<=2004]\n",
    "weekly_test = df[df.Year>=2009]\n",
    "print(\"Training dataset shape: \", weekly_train.shape)\n",
    "print(\"Test dataset shape: \", weekly_test.shape)"
   ]
  },
  {
   "cell_type": "code",
   "execution_count": 136,
   "metadata": {},
   "outputs": [
    {
     "name": "stdout",
     "output_type": "stream",
     "text": [
      "\n",
      "Confusion Matrix: \n"
     ]
    },
    {
     "data": {
      "text/html": [
       "<div>\n",
       "<style scoped>\n",
       "    .dataframe tbody tr th:only-of-type {\n",
       "        vertical-align: middle;\n",
       "    }\n",
       "\n",
       "    .dataframe tbody tr th {\n",
       "        vertical-align: top;\n",
       "    }\n",
       "\n",
       "    .dataframe thead tr th {\n",
       "        text-align: left;\n",
       "    }\n",
       "</style>\n",
       "<table border=\"1\" class=\"dataframe\">\n",
       "  <thead>\n",
       "    <tr>\n",
       "      <th></th>\n",
       "      <th></th>\n",
       "      <th colspan=\"2\" halign=\"left\">Predict</th>\n",
       "    </tr>\n",
       "    <tr>\n",
       "      <th></th>\n",
       "      <th></th>\n",
       "      <th>Down</th>\n",
       "      <th>Up</th>\n",
       "    </tr>\n",
       "  </thead>\n",
       "  <tbody>\n",
       "    <tr>\n",
       "      <th rowspan=\"2\" valign=\"top\">True</th>\n",
       "      <th>Down</th>\n",
       "      <td>6</td>\n",
       "      <td>37</td>\n",
       "    </tr>\n",
       "    <tr>\n",
       "      <th>Up</th>\n",
       "      <td>3</td>\n",
       "      <td>58</td>\n",
       "    </tr>\n",
       "  </tbody>\n",
       "</table>\n",
       "</div>"
      ],
      "text/plain": [
       "          Predict    \n",
       "             Down  Up\n",
       "True Down       6  37\n",
       "     Up         3  58"
      ]
     },
     "metadata": {},
     "output_type": "display_data"
    }
   ],
   "source": [
    "# Specify features and response\n",
    "features = ['Lag2']\n",
    "response = 'Direction'\n",
    "\n",
    "# Fit on training data subset using sklearn\n",
    "X_train = weekly_train[features]\n",
    "y_train = weekly_train[response]\n",
    "logreg = LogisticRegression(C=1e9)  # Use a large C to disable regularization\n",
    "logreg.fit(X_train, y_train)\n",
    "\n",
    "# Prediction on test data subset using sklearn\n",
    "X_test = weekly_test[features]\n",
    "y_test = weekly_test[response]\n",
    "y_pred = logreg.predict(X_test)\n",
    "\n",
    "# Evaluate accuracy\n",
    "cfmat_cnames = pd.MultiIndex.from_product([['Predict'], logreg.classes_])\n",
    "cfmat_index = pd.MultiIndex.from_product([['True'], logreg.classes_])\n",
    "cfmat = confusion_matrix(y_test, y_pred, labels=logreg.classes_)\n",
    "print(\"\\nConfusion Matrix: \")\n",
    "display(pd.DataFrame(cfmat, columns=cfmat_cnames, index=cfmat_index))"
   ]
  },
  {
   "cell_type": "markdown",
   "metadata": {},
   "source": [
    "Percentage of correct predictions: (6+58)/(6+58+37+3) = 61.5%"
   ]
  },
  {
   "cell_type": "markdown",
   "metadata": {},
   "source": [
    "10e) Repeat using LDA"
   ]
  },
  {
   "cell_type": "code",
   "execution_count": 137,
   "metadata": {},
   "outputs": [
    {
     "name": "stdout",
     "output_type": "stream",
     "text": [
      "Prior probabilities of groups:\n"
     ]
    },
    {
     "data": {
      "text/html": [
       "<div>\n",
       "<style scoped>\n",
       "    .dataframe tbody tr th:only-of-type {\n",
       "        vertical-align: middle;\n",
       "    }\n",
       "\n",
       "    .dataframe tbody tr th {\n",
       "        vertical-align: top;\n",
       "    }\n",
       "\n",
       "    .dataframe thead th {\n",
       "        text-align: right;\n",
       "    }\n",
       "</style>\n",
       "<table border=\"1\" class=\"dataframe\">\n",
       "  <thead>\n",
       "    <tr style=\"text-align: right;\">\n",
       "      <th></th>\n",
       "      <th>Down</th>\n",
       "      <th>Up</th>\n",
       "    </tr>\n",
       "  </thead>\n",
       "  <tbody>\n",
       "    <tr>\n",
       "      <th></th>\n",
       "      <td>0.44201</td>\n",
       "      <td>0.55799</td>\n",
       "    </tr>\n",
       "  </tbody>\n",
       "</table>\n",
       "</div>"
      ],
      "text/plain": [
       "     Down       Up\n",
       "  0.44201  0.55799"
      ]
     },
     "metadata": {},
     "output_type": "display_data"
    },
    {
     "name": "stdout",
     "output_type": "stream",
     "text": [
      "\n",
      "Group means:\n"
     ]
    },
    {
     "data": {
      "text/html": [
       "<div>\n",
       "<style scoped>\n",
       "    .dataframe tbody tr th:only-of-type {\n",
       "        vertical-align: middle;\n",
       "    }\n",
       "\n",
       "    .dataframe tbody tr th {\n",
       "        vertical-align: top;\n",
       "    }\n",
       "\n",
       "    .dataframe thead th {\n",
       "        text-align: right;\n",
       "    }\n",
       "</style>\n",
       "<table border=\"1\" class=\"dataframe\">\n",
       "  <thead>\n",
       "    <tr style=\"text-align: right;\">\n",
       "      <th></th>\n",
       "      <th>Lag2</th>\n",
       "    </tr>\n",
       "  </thead>\n",
       "  <tbody>\n",
       "    <tr>\n",
       "      <th>Down</th>\n",
       "      <td>0.058840</td>\n",
       "    </tr>\n",
       "    <tr>\n",
       "      <th>Up</th>\n",
       "      <td>0.294734</td>\n",
       "    </tr>\n",
       "  </tbody>\n",
       "</table>\n",
       "</div>"
      ],
      "text/plain": [
       "          Lag2\n",
       "Down  0.058840\n",
       "Up    0.294734"
      ]
     },
     "metadata": {},
     "output_type": "display_data"
    },
    {
     "name": "stdout",
     "output_type": "stream",
     "text": [
      "\n",
      "Coefficients of linear discriminants:\n"
     ]
    },
    {
     "data": {
      "text/html": [
       "<div>\n",
       "<style scoped>\n",
       "    .dataframe tbody tr th:only-of-type {\n",
       "        vertical-align: middle;\n",
       "    }\n",
       "\n",
       "    .dataframe tbody tr th {\n",
       "        vertical-align: top;\n",
       "    }\n",
       "\n",
       "    .dataframe thead th {\n",
       "        text-align: right;\n",
       "    }\n",
       "</style>\n",
       "<table border=\"1\" class=\"dataframe\">\n",
       "  <thead>\n",
       "    <tr style=\"text-align: right;\">\n",
       "      <th></th>\n",
       "      <th>LD1</th>\n",
       "    </tr>\n",
       "  </thead>\n",
       "  <tbody>\n",
       "    <tr>\n",
       "      <th>Lag2</th>\n",
       "      <td>0.467561</td>\n",
       "    </tr>\n",
       "  </tbody>\n",
       "</table>\n",
       "</div>"
      ],
      "text/plain": [
       "           LD1\n",
       "Lag2  0.467561"
      ]
     },
     "metadata": {},
     "output_type": "display_data"
    }
   ],
   "source": [
    "lda = LinearDiscriminantAnalysis()\n",
    "lda.fit(X_train, y_train)\n",
    "\n",
    "# Priors, group means, and coefficients of linear discriminants\n",
    "priors = pd.DataFrame(lda.priors_, index=lda.classes_, columns=['']).T\n",
    "print(\"Prior probabilities of groups:\")\n",
    "display(priors)\n",
    "\n",
    "gmeans = pd.DataFrame(lda.means_, index=lda.classes_, columns=features)\n",
    "print(\"\\nGroup means:\")\n",
    "display(gmeans)\n",
    "\n",
    "coef = pd.DataFrame(lda.scalings_, columns=['LD1'], index=features) # Note this is different from model.coef_\n",
    "print(\"\\nCoefficients of linear discriminants:\")\n",
    "display(coef)"
   ]
  },
  {
   "cell_type": "code",
   "execution_count": 138,
   "metadata": {},
   "outputs": [
    {
     "name": "stdout",
     "output_type": "stream",
     "text": [
      "\n",
      "Confusion Matrix: \n"
     ]
    },
    {
     "data": {
      "text/html": [
       "<div>\n",
       "<style scoped>\n",
       "    .dataframe tbody tr th:only-of-type {\n",
       "        vertical-align: middle;\n",
       "    }\n",
       "\n",
       "    .dataframe tbody tr th {\n",
       "        vertical-align: top;\n",
       "    }\n",
       "\n",
       "    .dataframe thead tr th {\n",
       "        text-align: left;\n",
       "    }\n",
       "</style>\n",
       "<table border=\"1\" class=\"dataframe\">\n",
       "  <thead>\n",
       "    <tr>\n",
       "      <th></th>\n",
       "      <th></th>\n",
       "      <th colspan=\"2\" halign=\"left\">Predict</th>\n",
       "    </tr>\n",
       "    <tr>\n",
       "      <th></th>\n",
       "      <th></th>\n",
       "      <th>Down</th>\n",
       "      <th>Up</th>\n",
       "    </tr>\n",
       "  </thead>\n",
       "  <tbody>\n",
       "    <tr>\n",
       "      <th rowspan=\"2\" valign=\"top\">True</th>\n",
       "      <th>Down</th>\n",
       "      <td>6</td>\n",
       "      <td>37</td>\n",
       "    </tr>\n",
       "    <tr>\n",
       "      <th>Up</th>\n",
       "      <td>3</td>\n",
       "      <td>58</td>\n",
       "    </tr>\n",
       "  </tbody>\n",
       "</table>\n",
       "</div>"
      ],
      "text/plain": [
       "          Predict    \n",
       "             Down  Up\n",
       "True Down       6  37\n",
       "     Up         3  58"
      ]
     },
     "metadata": {},
     "output_type": "display_data"
    },
    {
     "name": "stdout",
     "output_type": "stream",
     "text": [
      "\n",
      "Score:  0.6153846153846154\n"
     ]
    }
   ],
   "source": [
    "y_pred = lda.predict(X_test)\n",
    "\n",
    "# Generate posterior probability matrix\n",
    "posterior = pd.DataFrame(lda.predict_proba(X_test), columns=lda.classes_)\n",
    "\n",
    "# Generate linear discriminants on the test subset\n",
    "discrim_test = lda.transform(X_test)\n",
    "\n",
    "cfmat_cnames = pd.MultiIndex.from_product([['Predict'], lda.classes_])\n",
    "cfmat_index = pd.MultiIndex.from_product([['True'], lda.classes_])\n",
    "cfmat = confusion_matrix(y_test, y_pred, labels=lda.classes_)\n",
    "print(\"\\nConfusion Matrix: \")\n",
    "display(pd.DataFrame(cfmat, columns=cfmat_cnames, index=cfmat_index))\n",
    "print('\\nScore: ', lda.score(X_test, y_test))"
   ]
  },
  {
   "cell_type": "markdown",
   "metadata": {},
   "source": [
    "Percentage of correct predictions: (6+58)/(6+58+37+3) = 61.5%. Same as Logistic Regression. "
   ]
  },
  {
   "cell_type": "markdown",
   "metadata": {},
   "source": [
    "10.f) Repeat using QDA"
   ]
  },
  {
   "cell_type": "code",
   "execution_count": 146,
   "metadata": {},
   "outputs": [
    {
     "name": "stdout",
     "output_type": "stream",
     "text": [
      "Prior probabilities of groups:\n"
     ]
    },
    {
     "data": {
      "text/html": [
       "<div>\n",
       "<style scoped>\n",
       "    .dataframe tbody tr th:only-of-type {\n",
       "        vertical-align: middle;\n",
       "    }\n",
       "\n",
       "    .dataframe tbody tr th {\n",
       "        vertical-align: top;\n",
       "    }\n",
       "\n",
       "    .dataframe thead th {\n",
       "        text-align: right;\n",
       "    }\n",
       "</style>\n",
       "<table border=\"1\" class=\"dataframe\">\n",
       "  <thead>\n",
       "    <tr style=\"text-align: right;\">\n",
       "      <th></th>\n",
       "      <th>Down</th>\n",
       "      <th>Up</th>\n",
       "    </tr>\n",
       "  </thead>\n",
       "  <tbody>\n",
       "    <tr>\n",
       "      <th></th>\n",
       "      <td>0.44201</td>\n",
       "      <td>0.55799</td>\n",
       "    </tr>\n",
       "  </tbody>\n",
       "</table>\n",
       "</div>"
      ],
      "text/plain": [
       "     Down       Up\n",
       "  0.44201  0.55799"
      ]
     },
     "metadata": {},
     "output_type": "display_data"
    },
    {
     "name": "stdout",
     "output_type": "stream",
     "text": [
      "\n",
      "Group means:\n"
     ]
    },
    {
     "data": {
      "text/html": [
       "<div>\n",
       "<style scoped>\n",
       "    .dataframe tbody tr th:only-of-type {\n",
       "        vertical-align: middle;\n",
       "    }\n",
       "\n",
       "    .dataframe tbody tr th {\n",
       "        vertical-align: top;\n",
       "    }\n",
       "\n",
       "    .dataframe thead th {\n",
       "        text-align: right;\n",
       "    }\n",
       "</style>\n",
       "<table border=\"1\" class=\"dataframe\">\n",
       "  <thead>\n",
       "    <tr style=\"text-align: right;\">\n",
       "      <th></th>\n",
       "      <th>Lag2</th>\n",
       "    </tr>\n",
       "  </thead>\n",
       "  <tbody>\n",
       "    <tr>\n",
       "      <th>Down</th>\n",
       "      <td>0.058840</td>\n",
       "    </tr>\n",
       "    <tr>\n",
       "      <th>Up</th>\n",
       "      <td>0.294734</td>\n",
       "    </tr>\n",
       "  </tbody>\n",
       "</table>\n",
       "</div>"
      ],
      "text/plain": [
       "          Lag2\n",
       "Down  0.058840\n",
       "Up    0.294734"
      ]
     },
     "metadata": {},
     "output_type": "display_data"
    }
   ],
   "source": [
    "qda = QuadraticDiscriminantAnalysis()\n",
    "qda.fit(X_train, y_train)\n",
    "\n",
    "# Priors, group means, and coefficients of linear discriminants\n",
    "priors = pd.DataFrame(qda.priors_, index=qda.classes_, columns=['']).T\n",
    "print(\"Prior probabilities of groups:\")\n",
    "display(priors)\n",
    "gmeans = pd.DataFrame(qda.means_, index=qda.classes_, columns=features)\n",
    "print(\"\\nGroup means:\")\n",
    "display(gmeans)"
   ]
  },
  {
   "cell_type": "code",
   "execution_count": 147,
   "metadata": {},
   "outputs": [
    {
     "name": "stdout",
     "output_type": "stream",
     "text": [
      "\n",
      "Confusion Matrix: \n"
     ]
    },
    {
     "data": {
      "text/html": [
       "<div>\n",
       "<style scoped>\n",
       "    .dataframe tbody tr th:only-of-type {\n",
       "        vertical-align: middle;\n",
       "    }\n",
       "\n",
       "    .dataframe tbody tr th {\n",
       "        vertical-align: top;\n",
       "    }\n",
       "\n",
       "    .dataframe thead tr th {\n",
       "        text-align: left;\n",
       "    }\n",
       "</style>\n",
       "<table border=\"1\" class=\"dataframe\">\n",
       "  <thead>\n",
       "    <tr>\n",
       "      <th></th>\n",
       "      <th></th>\n",
       "      <th colspan=\"2\" halign=\"left\">Predict</th>\n",
       "    </tr>\n",
       "    <tr>\n",
       "      <th></th>\n",
       "      <th></th>\n",
       "      <th>Down</th>\n",
       "      <th>Up</th>\n",
       "    </tr>\n",
       "  </thead>\n",
       "  <tbody>\n",
       "    <tr>\n",
       "      <th rowspan=\"2\" valign=\"top\">True</th>\n",
       "      <th>Down</th>\n",
       "      <td>0</td>\n",
       "      <td>43</td>\n",
       "    </tr>\n",
       "    <tr>\n",
       "      <th>Up</th>\n",
       "      <td>0</td>\n",
       "      <td>61</td>\n",
       "    </tr>\n",
       "  </tbody>\n",
       "</table>\n",
       "</div>"
      ],
      "text/plain": [
       "          Predict    \n",
       "             Down  Up\n",
       "True Down       0  43\n",
       "     Up         0  61"
      ]
     },
     "metadata": {},
     "output_type": "display_data"
    },
    {
     "name": "stdout",
     "output_type": "stream",
     "text": [
      "\n",
      "Score:  0.5865384615384616\n"
     ]
    }
   ],
   "source": [
    "y_pred = qda.predict(X_test)\n",
    "\n",
    "# Evaluate accuracy\n",
    "cfmat_cnames = pd.MultiIndex.from_product([['Predict'], qda.classes_])\n",
    "cfmat_index = pd.MultiIndex.from_product([['True'], qda.classes_])\n",
    "cfmat = confusion_matrix(y_test, y_pred, labels=qda.classes_)\n",
    "\n",
    "print(\"\\nConfusion Matrix: \")\n",
    "display(pd.DataFrame(cfmat, columns=cfmat_cnames, index=cfmat_index))\n",
    "print('\\nScore: ', qda.score(X_test, y_test))"
   ]
  },
  {
   "cell_type": "markdown",
   "metadata": {},
   "source": [
    "A correctness of 58.7% even though it picked Up the whole time!"
   ]
  },
  {
   "cell_type": "markdown",
   "metadata": {},
   "source": [
    "10g) Repeat using KNN with k = 1"
   ]
  },
  {
   "cell_type": "code",
   "execution_count": 149,
   "metadata": {},
   "outputs": [
    {
     "name": "stdout",
     "output_type": "stream",
     "text": [
      "\n",
      "Confusion Matrix: \n"
     ]
    },
    {
     "data": {
      "text/html": [
       "<div>\n",
       "<style scoped>\n",
       "    .dataframe tbody tr th:only-of-type {\n",
       "        vertical-align: middle;\n",
       "    }\n",
       "\n",
       "    .dataframe tbody tr th {\n",
       "        vertical-align: top;\n",
       "    }\n",
       "\n",
       "    .dataframe thead tr th {\n",
       "        text-align: left;\n",
       "    }\n",
       "</style>\n",
       "<table border=\"1\" class=\"dataframe\">\n",
       "  <thead>\n",
       "    <tr>\n",
       "      <th></th>\n",
       "      <th></th>\n",
       "      <th colspan=\"2\" halign=\"left\">Predict</th>\n",
       "    </tr>\n",
       "    <tr>\n",
       "      <th></th>\n",
       "      <th></th>\n",
       "      <th>Down</th>\n",
       "      <th>Up</th>\n",
       "    </tr>\n",
       "  </thead>\n",
       "  <tbody>\n",
       "    <tr>\n",
       "      <th rowspan=\"2\" valign=\"top\">True</th>\n",
       "      <th>Down</th>\n",
       "      <td>23</td>\n",
       "      <td>20</td>\n",
       "    </tr>\n",
       "    <tr>\n",
       "      <th>Up</th>\n",
       "      <td>27</td>\n",
       "      <td>34</td>\n",
       "    </tr>\n",
       "  </tbody>\n",
       "</table>\n",
       "</div>"
      ],
      "text/plain": [
       "          Predict    \n",
       "             Down  Up\n",
       "True Down      23  20\n",
       "     Up        27  34"
      ]
     },
     "metadata": {},
     "output_type": "display_data"
    },
    {
     "name": "stdout",
     "output_type": "stream",
     "text": [
      "\n",
      "Score:  0.5480769230769231\n",
      "\n",
      "Classification Report:\n",
      "              precision    recall  f1-score   support\n",
      "\n",
      "        Down      0.460     0.535     0.495        43\n",
      "          Up      0.630     0.557     0.591        61\n",
      "\n",
      "    accuracy                          0.548       104\n",
      "   macro avg      0.545     0.546     0.543       104\n",
      "weighted avg      0.559     0.548     0.551       104\n",
      "\n"
     ]
    }
   ],
   "source": [
    "# Number of neighbors = 1\n",
    "knn = KNeighborsClassifier(n_neighbors=1)\n",
    "knn.fit(X_train, y_train)\n",
    "y_pred = knn.predict(X_test)\n",
    "\n",
    "# Evaluate accuracy\n",
    "cfmat_cnames = pd.MultiIndex.from_product([['Predict'], knn.classes_])\n",
    "cfmat_index = pd.MultiIndex.from_product([['True'], knn.classes_])\n",
    "cfmat = confusion_matrix(y_test, y_pred, labels=knn.classes_)\n",
    "\n",
    "print(\"\\nConfusion Matrix: \")\n",
    "display(pd.DataFrame(cfmat, columns=cfmat_cnames, index=cfmat_index))\n",
    "print('\\nScore: ', knn.score(X_test, y_test))\n",
    "print('\\nClassification Report:')\n",
    "print(classification_report(y_test, y_pred, digits=3))"
   ]
  },
  {
   "cell_type": "markdown",
   "metadata": {},
   "source": [
    "10h) Which of the above methods appear to be best?\n",
    "\n",
    "Logistic regression and LDA methods provide similar test error rates."
   ]
  },
  {
   "cell_type": "markdown",
   "metadata": {},
   "source": [
    "10i) Experiment with different combinations of predictors including transformation"
   ]
  },
  {
   "cell_type": "code",
   "execution_count": 150,
   "metadata": {},
   "outputs": [
    {
     "name": "stdout",
     "output_type": "stream",
     "text": [
      "\n",
      "Confusion Matrix: \n"
     ]
    },
    {
     "data": {
      "text/html": [
       "<div>\n",
       "<style scoped>\n",
       "    .dataframe tbody tr th:only-of-type {\n",
       "        vertical-align: middle;\n",
       "    }\n",
       "\n",
       "    .dataframe tbody tr th {\n",
       "        vertical-align: top;\n",
       "    }\n",
       "\n",
       "    .dataframe thead tr th {\n",
       "        text-align: left;\n",
       "    }\n",
       "</style>\n",
       "<table border=\"1\" class=\"dataframe\">\n",
       "  <thead>\n",
       "    <tr>\n",
       "      <th></th>\n",
       "      <th></th>\n",
       "      <th colspan=\"2\" halign=\"left\">Predict</th>\n",
       "    </tr>\n",
       "    <tr>\n",
       "      <th></th>\n",
       "      <th></th>\n",
       "      <th>Down</th>\n",
       "      <th>Up</th>\n",
       "    </tr>\n",
       "  </thead>\n",
       "  <tbody>\n",
       "    <tr>\n",
       "      <th rowspan=\"2\" valign=\"top\">True</th>\n",
       "      <th>Down</th>\n",
       "      <td>25</td>\n",
       "      <td>18</td>\n",
       "    </tr>\n",
       "    <tr>\n",
       "      <th>Up</th>\n",
       "      <td>28</td>\n",
       "      <td>33</td>\n",
       "    </tr>\n",
       "  </tbody>\n",
       "</table>\n",
       "</div>"
      ],
      "text/plain": [
       "          Predict    \n",
       "             Down  Up\n",
       "True Down      25  18\n",
       "     Up        28  33"
      ]
     },
     "metadata": {},
     "output_type": "display_data"
    },
    {
     "name": "stdout",
     "output_type": "stream",
     "text": [
      "\n",
      "Score:  0.5576923076923077\n",
      "\n",
      "Classification Report:\n",
      "              precision    recall  f1-score   support\n",
      "\n",
      "        Down      0.472     0.581     0.521        43\n",
      "          Up      0.647     0.541     0.589        61\n",
      "\n",
      "    accuracy                          0.558       104\n",
      "   macro avg      0.559     0.561     0.555       104\n",
      "weighted avg      0.575     0.558     0.561       104\n",
      "\n"
     ]
    }
   ],
   "source": [
    "# Number of neighbors = 10\n",
    "knn = KNeighborsClassifier(n_neighbors=10)\n",
    "knn.fit(X_train, y_train)\n",
    "y_pred = knn.predict(X_test)\n",
    "\n",
    "# Evaluate accuracy\n",
    "cfmat_cnames = pd.MultiIndex.from_product([['Predict'], knn.classes_])\n",
    "cfmat_index = pd.MultiIndex.from_product([['True'], knn.classes_])\n",
    "cfmat = confusion_matrix(y_test, y_pred, labels=knn.classes_)\n",
    "\n",
    "print(\"\\nConfusion Matrix: \")\n",
    "display(pd.DataFrame(cfmat, columns=cfmat_cnames, index=cfmat_index))\n",
    "print('\\nScore: ', knn.score(X_test, y_test))\n",
    "print('\\nClassification Report:')\n",
    "print(classification_report(y_test, y_pred, digits=3))"
   ]
  },
  {
   "cell_type": "code",
   "execution_count": 156,
   "metadata": {},
   "outputs": [
    {
     "name": "stdout",
     "output_type": "stream",
     "text": [
      "\n",
      "Confusion Matrix: \n"
     ]
    },
    {
     "data": {
      "text/html": [
       "<div>\n",
       "<style scoped>\n",
       "    .dataframe tbody tr th:only-of-type {\n",
       "        vertical-align: middle;\n",
       "    }\n",
       "\n",
       "    .dataframe tbody tr th {\n",
       "        vertical-align: top;\n",
       "    }\n",
       "\n",
       "    .dataframe thead tr th {\n",
       "        text-align: left;\n",
       "    }\n",
       "</style>\n",
       "<table border=\"1\" class=\"dataframe\">\n",
       "  <thead>\n",
       "    <tr>\n",
       "      <th></th>\n",
       "      <th></th>\n",
       "      <th colspan=\"2\" halign=\"left\">Predict</th>\n",
       "    </tr>\n",
       "    <tr>\n",
       "      <th></th>\n",
       "      <th></th>\n",
       "      <th>Down</th>\n",
       "      <th>Up</th>\n",
       "    </tr>\n",
       "  </thead>\n",
       "  <tbody>\n",
       "    <tr>\n",
       "      <th rowspan=\"2\" valign=\"top\">True</th>\n",
       "      <th>Down</th>\n",
       "      <td>1</td>\n",
       "      <td>42</td>\n",
       "    </tr>\n",
       "    <tr>\n",
       "      <th>Up</th>\n",
       "      <td>1</td>\n",
       "      <td>60</td>\n",
       "    </tr>\n",
       "  </tbody>\n",
       "</table>\n",
       "</div>"
      ],
      "text/plain": [
       "          Predict    \n",
       "             Down  Up\n",
       "True Down       1  42\n",
       "     Up         1  60"
      ]
     },
     "metadata": {},
     "output_type": "display_data"
    },
    {
     "name": "stdout",
     "output_type": "stream",
     "text": [
      "\n",
      "Score:  0.5865384615384616\n",
      "\n",
      "Classification Report:\n",
      "              precision    recall  f1-score   support\n",
      "\n",
      "        Down      0.500     0.023     0.044        43\n",
      "          Up      0.588     0.984     0.736        61\n",
      "\n",
      "    accuracy                          0.587       104\n",
      "   macro avg      0.544     0.503     0.390       104\n",
      "weighted avg      0.552     0.587     0.450       104\n",
      "\n"
     ]
    }
   ],
   "source": [
    "# Create training and test data using two new predictors\n",
    "df['sqrt_abs_Lag2'] = np.sqrt(abs(df['Lag2']))\n",
    "df['Lag1:Lag2'] = df['Lag1'] * df['Lag2']\n",
    "\n",
    "weekly_train = df[df.Year<=2004]\n",
    "weekly_test = df[df.Year>=2009]\n",
    "features = ['Lag2','sqrt_abs_Lag2', 'Lag1:Lag2']\n",
    "response = 'Direction'\n",
    "\n",
    "# Fit on training data subset using sklearn\n",
    "X_train = weekly_train[features]\n",
    "y_train = weekly_train[response]\n",
    "logreg = LogisticRegression(C=1e9)  # Use a large C to disable regularization\n",
    "logreg.fit(X_train, y_train)\n",
    "\n",
    "# Prediction on test data subset using sklearn\n",
    "X_test = weekly_test[features]\n",
    "y_test = weekly_test[response]\n",
    "y_pred = logreg.predict(X_test)\n",
    "\n",
    "# Evaluate accuracy\n",
    "cfmat_cnames = pd.MultiIndex.from_product([['Predict'], logreg.classes_])\n",
    "cfmat_index = pd.MultiIndex.from_product([['True'], logreg.classes_])\n",
    "cfmat = confusion_matrix(y_test, y_pred, labels=logreg.classes_)\n",
    "print(\"\\nConfusion Matrix: \")\n",
    "display(pd.DataFrame(cfmat, columns=cfmat_cnames, index=cfmat_index))\n",
    "print('\\nScore: ', logreg.score(X_test, y_test))\n",
    "print('\\nClassification Report:')\n",
    "print(classification_report(y_test, y_pred, digits=3))"
   ]
  },
  {
   "cell_type": "markdown",
   "metadata": {},
   "source": [
    "Adding the predictor Lag1:Lag2 and sqrt(Lag2) to Lag2 did not appear to improve the score for Logistic Regression. Trying KNN with 10 neighbors only improved the score slightly versus using 1 neighbor "
   ]
  },
  {
   "cell_type": "code",
   "execution_count": null,
   "metadata": {},
   "outputs": [],
   "source": []
  }
 ],
 "metadata": {
  "kernelspec": {
   "display_name": "Python 3",
   "language": "python",
   "name": "python3"
  },
  "language_info": {
   "codemirror_mode": {
    "name": "ipython",
    "version": 3
   },
   "file_extension": ".py",
   "mimetype": "text/x-python",
   "name": "python",
   "nbconvert_exporter": "python",
   "pygments_lexer": "ipython3",
   "version": "3.7.6"
  }
 },
 "nbformat": 4,
 "nbformat_minor": 4
}
